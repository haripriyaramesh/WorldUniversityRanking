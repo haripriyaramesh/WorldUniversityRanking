{
 "cells": [
  {
   "cell_type": "markdown",
   "metadata": {
    "papermill": {
     "duration": 0.010768,
     "end_time": "2023-06-04T16:28:54.299325",
     "exception": false,
     "start_time": "2023-06-04T16:28:54.288557",
     "status": "completed"
    },
    "tags": []
   },
   "source": [
    "# 1.Introduction\n",
    "\n",
    "this project is part of the nanodegree program for data science in Udacity, i will analyze Seattle Airbnb data using the CRISP-DM method which consist of the 6 step process:\n",
    "\n",
    "1.Buisness understanding.\n",
    "\n",
    "2.Data Understanding.\n",
    "\n",
    "3.Data Preperation.\n",
    "\n",
    "4.Data Modeling.\n",
    "\n",
    "5.Result Evaluation.\n",
    "\n",
    "6.Deployment."
   ]
  },
  {
   "cell_type": "markdown",
   "metadata": {
    "papermill": {
     "duration": 0.009159,
     "end_time": "2023-06-04T16:28:54.318544",
     "exception": false,
     "start_time": "2023-06-04T16:28:54.309385",
     "status": "completed"
    },
    "tags": []
   },
   "source": [
    "1.Business Understanding\n",
    "\n",
    "Airbnb was born in 2007, and has since grown to over 4 million Hosts who have welcomed 1.4 billion guest arrivals in almost every country across the globe.\n",
    "Airbnb is an online marketplace that connects people who want to rent out their property with people who are looking for accommodations in specific locales. Airbnb offers people an easy, relatively stress-free way to earn some income from their property.\n",
    "\n",
    "Q1.first by taking a glempse of the data i wanted to see which month,day have the highest price from the listings ? and how is that related to the avaliability of the listing by Month and Day ?\n",
    "\n",
    "Q2.Which is the highest Neighbourhood in Seatle with the Average Review Score ?? the Most Expensive Neighbourhood to rent in and the Chepeast ?? and if there's a correlation between prices and reviews ?\n"
   ]
  },
  {
   "cell_type": "markdown",
   "metadata": {
    "papermill": {
     "duration": 0.009156,
     "end_time": "2023-06-04T16:28:54.337390",
     "exception": false,
     "start_time": "2023-06-04T16:28:54.328234",
     "status": "completed"
    },
    "tags": []
   },
   "source": [
    "2.Data Understanding and Exploration\n"
   ]
  },
  {
   "cell_type": "markdown",
   "metadata": {
    "papermill": {
     "duration": 0.009481,
     "end_time": "2023-06-04T16:28:54.358331",
     "exception": false,
     "start_time": "2023-06-04T16:28:54.348850",
     "status": "completed"
    },
    "tags": []
   },
   "source": [
    "2.1 Importing our libraries we will use for the EDA (Exploration Data Analysis): "
   ]
  },
  {
   "cell_type": "code",
   "execution_count": 441,
   "metadata": {
    "execution": {
     "iopub.execute_input": "2023-06-04T16:28:54.380789Z",
     "iopub.status.busy": "2023-06-04T16:28:54.379568Z",
     "iopub.status.idle": "2023-06-04T16:28:54.392151Z",
     "shell.execute_reply": "2023-06-04T16:28:54.391054Z"
    },
    "papermill": {
     "duration": 0.026848,
     "end_time": "2023-06-04T16:28:54.395068",
     "exception": false,
     "start_time": "2023-06-04T16:28:54.368220",
     "status": "completed"
    },
    "tags": []
   },
   "outputs": [],
   "source": [
    "import numpy as np\n",
    "import pandas as pd\n",
    "import seaborn as sns\n",
    "import matplotlib.pyplot as plt"
   ]
  },
  {
   "cell_type": "markdown",
   "metadata": {
    "papermill": {
     "duration": 0.009365,
     "end_time": "2023-06-04T16:28:54.414273",
     "exception": false,
     "start_time": "2023-06-04T16:28:54.404908",
     "status": "completed"
    },
    "tags": []
   },
   "source": [
    "2.2 Reading the data using Pandas Library"
   ]
  },
  {
   "cell_type": "code",
   "execution_count": 442,
   "metadata": {
    "execution": {
     "iopub.execute_input": "2023-06-04T16:28:54.437038Z",
     "iopub.status.busy": "2023-06-04T16:28:54.436161Z",
     "iopub.status.idle": "2023-06-04T16:28:57.286937Z",
     "shell.execute_reply": "2023-06-04T16:28:57.285591Z"
    },
    "papermill": {
     "duration": 2.866117,
     "end_time": "2023-06-04T16:28:57.290433",
     "exception": false,
     "start_time": "2023-06-04T16:28:54.424316",
     "status": "completed"
    },
    "tags": []
   },
   "outputs": [],
   "source": [
    "uni_rankings = pd.read_csv(\"qs-world-university-rankings-2017-to-2022-V2.csv\")\n"
   ]
  },
  {
   "cell_type": "markdown",
   "metadata": {
    "papermill": {
     "duration": 0.009644,
     "end_time": "2023-06-04T16:28:57.310221",
     "exception": false,
     "start_time": "2023-06-04T16:28:57.300577",
     "status": "completed"
    },
    "tags": []
   },
   "source": [
    "2.3 Exploring the Variables inside each of the three data"
   ]
  },
  {
   "cell_type": "code",
   "execution_count": 443,
   "metadata": {
    "execution": {
     "iopub.execute_input": "2023-06-04T16:28:57.333423Z",
     "iopub.status.busy": "2023-06-04T16:28:57.331861Z",
     "iopub.status.idle": "2023-06-04T16:28:57.407907Z",
     "shell.execute_reply": "2023-06-04T16:28:57.406606Z"
    },
    "papermill": {
     "duration": 0.092928,
     "end_time": "2023-06-04T16:28:57.413137",
     "exception": false,
     "start_time": "2023-06-04T16:28:57.320209",
     "status": "completed"
    },
    "tags": []
   },
   "outputs": [
    {
     "data": {
      "text/html": [
       "<div>\n",
       "<style scoped>\n",
       "    .dataframe tbody tr th:only-of-type {\n",
       "        vertical-align: middle;\n",
       "    }\n",
       "\n",
       "    .dataframe tbody tr th {\n",
       "        vertical-align: top;\n",
       "    }\n",
       "\n",
       "    .dataframe thead th {\n",
       "        text-align: right;\n",
       "    }\n",
       "</style>\n",
       "<table border=\"1\" class=\"dataframe\">\n",
       "  <thead>\n",
       "    <tr style=\"text-align: right;\">\n",
       "      <th></th>\n",
       "      <th>university</th>\n",
       "      <th>year</th>\n",
       "      <th>rank_display</th>\n",
       "      <th>score</th>\n",
       "      <th>link</th>\n",
       "      <th>country</th>\n",
       "      <th>city</th>\n",
       "      <th>region</th>\n",
       "      <th>logo</th>\n",
       "      <th>type</th>\n",
       "      <th>research_output</th>\n",
       "      <th>student_faculty_ratio</th>\n",
       "      <th>international_students</th>\n",
       "      <th>size</th>\n",
       "      <th>faculty_count</th>\n",
       "    </tr>\n",
       "  </thead>\n",
       "  <tbody>\n",
       "    <tr>\n",
       "      <th>0</th>\n",
       "      <td>Massachusetts Institute of Technology (MIT)</td>\n",
       "      <td>2017</td>\n",
       "      <td>1</td>\n",
       "      <td>100.0</td>\n",
       "      <td>https://www.topuniversities.com/universities/m...</td>\n",
       "      <td>United States</td>\n",
       "      <td>Cambridge</td>\n",
       "      <td>North America</td>\n",
       "      <td>https://www.topuniversities.com/sites/default/...</td>\n",
       "      <td>Private</td>\n",
       "      <td>Very High</td>\n",
       "      <td>4.0</td>\n",
       "      <td>3,730</td>\n",
       "      <td>M</td>\n",
       "      <td>3,065</td>\n",
       "    </tr>\n",
       "    <tr>\n",
       "      <th>1</th>\n",
       "      <td>Stanford University</td>\n",
       "      <td>2017</td>\n",
       "      <td>2</td>\n",
       "      <td>98.7</td>\n",
       "      <td>https://www.topuniversities.com/universities/s...</td>\n",
       "      <td>United States</td>\n",
       "      <td>Stanford</td>\n",
       "      <td>North America</td>\n",
       "      <td>https://www.topuniversities.com/sites/default/...</td>\n",
       "      <td>Private</td>\n",
       "      <td>Very High</td>\n",
       "      <td>3.0</td>\n",
       "      <td>3,879</td>\n",
       "      <td>L</td>\n",
       "      <td>4,725</td>\n",
       "    </tr>\n",
       "    <tr>\n",
       "      <th>2</th>\n",
       "      <td>Harvard University</td>\n",
       "      <td>2017</td>\n",
       "      <td>3</td>\n",
       "      <td>98.3</td>\n",
       "      <td>https://www.topuniversities.com/universities/h...</td>\n",
       "      <td>United States</td>\n",
       "      <td>Cambridge</td>\n",
       "      <td>North America</td>\n",
       "      <td>https://www.topuniversities.com/sites/default/...</td>\n",
       "      <td>Private</td>\n",
       "      <td>Very High</td>\n",
       "      <td>5.0</td>\n",
       "      <td>5,877</td>\n",
       "      <td>L</td>\n",
       "      <td>4,646</td>\n",
       "    </tr>\n",
       "    <tr>\n",
       "      <th>3</th>\n",
       "      <td>University of Cambridge</td>\n",
       "      <td>2017</td>\n",
       "      <td>4</td>\n",
       "      <td>97.2</td>\n",
       "      <td>https://www.topuniversities.com/universities/u...</td>\n",
       "      <td>United Kingdom</td>\n",
       "      <td>Cambridge</td>\n",
       "      <td>Europe</td>\n",
       "      <td>https://www.topuniversities.com/sites/default/...</td>\n",
       "      <td>Public</td>\n",
       "      <td>Very high</td>\n",
       "      <td>4.0</td>\n",
       "      <td>7,925</td>\n",
       "      <td>L</td>\n",
       "      <td>5,800</td>\n",
       "    </tr>\n",
       "    <tr>\n",
       "      <th>4</th>\n",
       "      <td>California Institute of Technology (Caltech)</td>\n",
       "      <td>2017</td>\n",
       "      <td>5</td>\n",
       "      <td>96.9</td>\n",
       "      <td>https://www.topuniversities.com/universities/c...</td>\n",
       "      <td>United States</td>\n",
       "      <td>Pasadena</td>\n",
       "      <td>North America</td>\n",
       "      <td>https://www.topuniversities.com/sites/default/...</td>\n",
       "      <td>Private</td>\n",
       "      <td>Very High</td>\n",
       "      <td>2.0</td>\n",
       "      <td>692</td>\n",
       "      <td>S</td>\n",
       "      <td>968</td>\n",
       "    </tr>\n",
       "  </tbody>\n",
       "</table>\n",
       "</div>"
      ],
      "text/plain": [
       "                                     university  year rank_display  score  \\\n",
       "0  Massachusetts Institute of Technology (MIT)   2017            1  100.0   \n",
       "1                           Stanford University  2017            2   98.7   \n",
       "2                            Harvard University  2017            3   98.3   \n",
       "3                       University of Cambridge  2017            4   97.2   \n",
       "4  California Institute of Technology (Caltech)  2017            5   96.9   \n",
       "\n",
       "                                                link         country  \\\n",
       "0  https://www.topuniversities.com/universities/m...   United States   \n",
       "1  https://www.topuniversities.com/universities/s...   United States   \n",
       "2  https://www.topuniversities.com/universities/h...   United States   \n",
       "3  https://www.topuniversities.com/universities/u...  United Kingdom   \n",
       "4  https://www.topuniversities.com/universities/c...   United States   \n",
       "\n",
       "        city         region  \\\n",
       "0  Cambridge  North America   \n",
       "1   Stanford  North America   \n",
       "2  Cambridge  North America   \n",
       "3  Cambridge         Europe   \n",
       "4   Pasadena  North America   \n",
       "\n",
       "                                                logo     type research_output  \\\n",
       "0  https://www.topuniversities.com/sites/default/...  Private       Very High   \n",
       "1  https://www.topuniversities.com/sites/default/...  Private       Very High   \n",
       "2  https://www.topuniversities.com/sites/default/...  Private       Very High   \n",
       "3  https://www.topuniversities.com/sites/default/...   Public       Very high   \n",
       "4  https://www.topuniversities.com/sites/default/...  Private       Very High   \n",
       "\n",
       "   student_faculty_ratio international_students size faculty_count  \n",
       "0                    4.0                  3,730    M         3,065  \n",
       "1                    3.0                  3,879    L         4,725  \n",
       "2                    5.0                  5,877    L         4,646  \n",
       "3                    4.0                  7,925    L         5,800  \n",
       "4                    2.0                    692    S           968  "
      ]
     },
     "metadata": {},
     "output_type": "display_data"
    },
    {
     "name": "stdout",
     "output_type": "stream",
     "text": [
      "(6482, 15)\n"
     ]
    }
   ],
   "source": [
    "display(uni_rankings.head())\n",
    "print(uni_rankings.shape)"
   ]
  },
  {
   "cell_type": "markdown",
   "metadata": {
    "papermill": {
     "duration": 0.010602,
     "end_time": "2023-06-04T16:28:57.434802",
     "exception": false,
     "start_time": "2023-06-04T16:28:57.424200",
     "status": "completed"
    },
    "tags": []
   },
   "source": [
    "2.4 Checking the most Variable with the highest NA values"
   ]
  },
  {
   "cell_type": "code",
   "execution_count": 444,
   "metadata": {
    "execution": {
     "iopub.execute_input": "2023-06-04T16:28:57.459171Z",
     "iopub.status.busy": "2023-06-04T16:28:57.458268Z",
     "iopub.status.idle": "2023-06-04T16:28:57.545637Z",
     "shell.execute_reply": "2023-06-04T16:28:57.543965Z"
    },
    "papermill": {
     "duration": 0.102873,
     "end_time": "2023-06-04T16:28:57.548622",
     "exception": false,
     "start_time": "2023-06-04T16:28:57.445749",
     "status": "completed"
    },
    "tags": []
   },
   "outputs": [
    {
     "name": "stdout",
     "output_type": "stream",
     "text": [
      "score                     0.564949\n",
      "city                      0.027461\n",
      "international_students    0.025301\n",
      "faculty_count             0.012033\n",
      "student_faculty_ratio     0.011571\n",
      "rank_display              0.010491\n",
      "type                      0.001851\n",
      "size                      0.000309\n",
      "research_output           0.000309\n",
      "logo                      0.000000\n",
      "region                    0.000000\n",
      "country                   0.000000\n",
      "link                      0.000000\n",
      "year                      0.000000\n",
      "university                0.000000\n",
      "dtype: float64\n"
     ]
    }
   ],
   "source": [
    "print(uni_rankings.isna().mean().sort_values(ascending=False).head(35))"
   ]
  },
  {
   "cell_type": "code",
   "execution_count": 445,
   "metadata": {},
   "outputs": [
    {
     "data": {
      "text/plain": [
       "year\n",
       "2017     933\n",
       "2018     977\n",
       "2019    1018\n",
       "2020    1069\n",
       "2021    1185\n",
       "2022    1300\n",
       "dtype: int64"
      ]
     },
     "execution_count": 445,
     "metadata": {},
     "output_type": "execute_result"
    }
   ],
   "source": [
    "entries_per_year = uni_rankings.groupby('year').apply(lambda x:x['country'].count())\n",
    "entries_per_year"
   ]
  },
  {
   "cell_type": "code",
   "execution_count": 446,
   "metadata": {},
   "outputs": [],
   "source": [
    "# Group the DataFrame by 'Year' and calculate the percentage of missing values\n",
    "missing_percentage_per_year = uni_rankings.groupby('year').apply(lambda x: (x.isna().sum() / len(x)) * 100)"
   ]
  },
  {
   "cell_type": "code",
   "execution_count": 447,
   "metadata": {},
   "outputs": [
    {
     "data": {
      "text/html": [
       "<div>\n",
       "<style scoped>\n",
       "    .dataframe tbody tr th:only-of-type {\n",
       "        vertical-align: middle;\n",
       "    }\n",
       "\n",
       "    .dataframe tbody tr th {\n",
       "        vertical-align: top;\n",
       "    }\n",
       "\n",
       "    .dataframe thead th {\n",
       "        text-align: right;\n",
       "    }\n",
       "</style>\n",
       "<table border=\"1\" class=\"dataframe\">\n",
       "  <thead>\n",
       "    <tr style=\"text-align: right;\">\n",
       "      <th></th>\n",
       "      <th>university</th>\n",
       "      <th>year</th>\n",
       "      <th>rank_display</th>\n",
       "      <th>score</th>\n",
       "      <th>link</th>\n",
       "      <th>country</th>\n",
       "      <th>city</th>\n",
       "      <th>region</th>\n",
       "      <th>logo</th>\n",
       "      <th>type</th>\n",
       "      <th>research_output</th>\n",
       "      <th>student_faculty_ratio</th>\n",
       "      <th>international_students</th>\n",
       "      <th>size</th>\n",
       "      <th>faculty_count</th>\n",
       "    </tr>\n",
       "    <tr>\n",
       "      <th>year</th>\n",
       "      <th></th>\n",
       "      <th></th>\n",
       "      <th></th>\n",
       "      <th></th>\n",
       "      <th></th>\n",
       "      <th></th>\n",
       "      <th></th>\n",
       "      <th></th>\n",
       "      <th></th>\n",
       "      <th></th>\n",
       "      <th></th>\n",
       "      <th></th>\n",
       "      <th></th>\n",
       "      <th></th>\n",
       "      <th></th>\n",
       "    </tr>\n",
       "  </thead>\n",
       "  <tbody>\n",
       "    <tr>\n",
       "      <th>2017</th>\n",
       "      <td>0.0</td>\n",
       "      <td>0.0</td>\n",
       "      <td>2.036442</td>\n",
       "      <td>56.698821</td>\n",
       "      <td>0.0</td>\n",
       "      <td>0.0</td>\n",
       "      <td>1.607717</td>\n",
       "      <td>0.0</td>\n",
       "      <td>0.0</td>\n",
       "      <td>0.000000</td>\n",
       "      <td>0.000000</td>\n",
       "      <td>1.393355</td>\n",
       "      <td>2.465166</td>\n",
       "      <td>0.000000</td>\n",
       "      <td>1.500536</td>\n",
       "    </tr>\n",
       "    <tr>\n",
       "      <th>2018</th>\n",
       "      <td>0.0</td>\n",
       "      <td>0.0</td>\n",
       "      <td>0.102354</td>\n",
       "      <td>58.751279</td>\n",
       "      <td>0.0</td>\n",
       "      <td>0.0</td>\n",
       "      <td>1.740020</td>\n",
       "      <td>0.0</td>\n",
       "      <td>0.0</td>\n",
       "      <td>0.204708</td>\n",
       "      <td>0.000000</td>\n",
       "      <td>1.330604</td>\n",
       "      <td>2.456499</td>\n",
       "      <td>0.000000</td>\n",
       "      <td>1.432958</td>\n",
       "    </tr>\n",
       "    <tr>\n",
       "      <th>2019</th>\n",
       "      <td>0.0</td>\n",
       "      <td>0.0</td>\n",
       "      <td>1.964637</td>\n",
       "      <td>50.392927</td>\n",
       "      <td>0.0</td>\n",
       "      <td>0.0</td>\n",
       "      <td>2.455796</td>\n",
       "      <td>0.0</td>\n",
       "      <td>0.0</td>\n",
       "      <td>0.196464</td>\n",
       "      <td>0.000000</td>\n",
       "      <td>1.375246</td>\n",
       "      <td>2.554028</td>\n",
       "      <td>0.000000</td>\n",
       "      <td>1.375246</td>\n",
       "    </tr>\n",
       "    <tr>\n",
       "      <th>2020</th>\n",
       "      <td>0.0</td>\n",
       "      <td>0.0</td>\n",
       "      <td>0.093545</td>\n",
       "      <td>53.133770</td>\n",
       "      <td>0.0</td>\n",
       "      <td>0.0</td>\n",
       "      <td>2.993452</td>\n",
       "      <td>0.0</td>\n",
       "      <td>0.0</td>\n",
       "      <td>0.374181</td>\n",
       "      <td>0.093545</td>\n",
       "      <td>1.496726</td>\n",
       "      <td>2.432180</td>\n",
       "      <td>0.093545</td>\n",
       "      <td>1.590271</td>\n",
       "    </tr>\n",
       "    <tr>\n",
       "      <th>2021</th>\n",
       "      <td>0.0</td>\n",
       "      <td>0.0</td>\n",
       "      <td>2.278481</td>\n",
       "      <td>57.299578</td>\n",
       "      <td>0.0</td>\n",
       "      <td>0.0</td>\n",
       "      <td>3.375527</td>\n",
       "      <td>0.0</td>\n",
       "      <td>0.0</td>\n",
       "      <td>0.337553</td>\n",
       "      <td>0.084388</td>\n",
       "      <td>1.434599</td>\n",
       "      <td>3.037975</td>\n",
       "      <td>0.084388</td>\n",
       "      <td>1.265823</td>\n",
       "    </tr>\n",
       "    <tr>\n",
       "      <th>2022</th>\n",
       "      <td>0.0</td>\n",
       "      <td>0.0</td>\n",
       "      <td>0.000000</td>\n",
       "      <td>61.461538</td>\n",
       "      <td>0.0</td>\n",
       "      <td>0.0</td>\n",
       "      <td>3.769231</td>\n",
       "      <td>0.0</td>\n",
       "      <td>0.0</td>\n",
       "      <td>0.000000</td>\n",
       "      <td>0.000000</td>\n",
       "      <td>0.153846</td>\n",
       "      <td>2.230769</td>\n",
       "      <td>0.000000</td>\n",
       "      <td>0.307692</td>\n",
       "    </tr>\n",
       "  </tbody>\n",
       "</table>\n",
       "</div>"
      ],
      "text/plain": [
       "      university  year  rank_display      score  link  country      city  \\\n",
       "year                                                                       \n",
       "2017         0.0   0.0      2.036442  56.698821   0.0      0.0  1.607717   \n",
       "2018         0.0   0.0      0.102354  58.751279   0.0      0.0  1.740020   \n",
       "2019         0.0   0.0      1.964637  50.392927   0.0      0.0  2.455796   \n",
       "2020         0.0   0.0      0.093545  53.133770   0.0      0.0  2.993452   \n",
       "2021         0.0   0.0      2.278481  57.299578   0.0      0.0  3.375527   \n",
       "2022         0.0   0.0      0.000000  61.461538   0.0      0.0  3.769231   \n",
       "\n",
       "      region  logo      type  research_output  student_faculty_ratio  \\\n",
       "year                                                                   \n",
       "2017     0.0   0.0  0.000000         0.000000               1.393355   \n",
       "2018     0.0   0.0  0.204708         0.000000               1.330604   \n",
       "2019     0.0   0.0  0.196464         0.000000               1.375246   \n",
       "2020     0.0   0.0  0.374181         0.093545               1.496726   \n",
       "2021     0.0   0.0  0.337553         0.084388               1.434599   \n",
       "2022     0.0   0.0  0.000000         0.000000               0.153846   \n",
       "\n",
       "      international_students      size  faculty_count  \n",
       "year                                                   \n",
       "2017                2.465166  0.000000       1.500536  \n",
       "2018                2.456499  0.000000       1.432958  \n",
       "2019                2.554028  0.000000       1.375246  \n",
       "2020                2.432180  0.093545       1.590271  \n",
       "2021                3.037975  0.084388       1.265823  \n",
       "2022                2.230769  0.000000       0.307692  "
      ]
     },
     "execution_count": 447,
     "metadata": {},
     "output_type": "execute_result"
    }
   ],
   "source": [
    "missing_percentage_per_year"
   ]
  },
  {
   "cell_type": "code",
   "execution_count": 448,
   "metadata": {},
   "outputs": [],
   "source": [
    "#More than 56% of score values are missing, the dataset doc aslo suggests that score is based on six other factors. For our initital questions we can work without score. \n",
    "uni_rankings = uni_rankings.drop('score', axis=1)\n"
   ]
  },
  {
   "cell_type": "markdown",
   "metadata": {
    "papermill": {
     "duration": 0.011554,
     "end_time": "2023-06-04T16:28:57.571942",
     "exception": false,
     "start_time": "2023-06-04T16:28:57.560388",
     "status": "completed"
    },
    "tags": []
   },
   "source": [
    "We can see Above that the License Variable has none values at all so it is best to remove it even the Square feet variable with 97% of the values is null so it is best to remove both columns."
   ]
  },
  {
   "cell_type": "code",
   "execution_count": 449,
   "metadata": {
    "execution": {
     "iopub.execute_input": "2023-06-04T16:28:57.597076Z",
     "iopub.status.busy": "2023-06-04T16:28:57.596540Z",
     "iopub.status.idle": "2023-06-04T16:28:57.614927Z",
     "shell.execute_reply": "2023-06-04T16:28:57.614036Z"
    },
    "papermill": {
     "duration": 0.034479,
     "end_time": "2023-06-04T16:28:57.617839",
     "exception": false,
     "start_time": "2023-06-04T16:28:57.583360",
     "status": "completed"
    },
    "tags": []
   },
   "outputs": [
    {
     "name": "stdout",
     "output_type": "stream",
     "text": [
      "(6482, 12)\n"
     ]
    }
   ],
   "source": [
    "uni_rankings = uni_rankings.drop(columns=['link', 'logo'])\n",
    "print(uni_rankings.shape)"
   ]
  },
  {
   "cell_type": "code",
   "execution_count": 450,
   "metadata": {},
   "outputs": [
    {
     "name": "stdout",
     "output_type": "stream",
     "text": [
      "### Dataframe information ### \n",
      "\n",
      "<class 'pandas.core.frame.DataFrame'>\n",
      "RangeIndex: 6482 entries, 0 to 6481\n",
      "Data columns (total 12 columns):\n",
      "university                6482 non-null object\n",
      "year                      6482 non-null int64\n",
      "rank_display              6414 non-null object\n",
      "country                   6482 non-null object\n",
      "city                      6304 non-null object\n",
      "region                    6482 non-null object\n",
      "type                      6470 non-null object\n",
      "research_output           6480 non-null object\n",
      "student_faculty_ratio     6407 non-null float64\n",
      "international_students    6318 non-null object\n",
      "size                      6480 non-null object\n",
      "faculty_count             6404 non-null object\n",
      "dtypes: float64(1), int64(1), object(10)\n",
      "memory usage: 607.8+ KB\n"
     ]
    }
   ],
   "source": [
    "# Check Dataframe information\n",
    "\n",
    "print('### Dataframe information ###','\\n')\n",
    "uni_rankings.info()"
   ]
  },
  {
   "cell_type": "code",
   "execution_count": 451,
   "metadata": {},
   "outputs": [],
   "source": [
    "uni_rankings = uni_rankings.dropna()"
   ]
  },
  {
   "cell_type": "code",
   "execution_count": 452,
   "metadata": {},
   "outputs": [
    {
     "data": {
      "text/plain": [
       "1261"
      ]
     },
     "execution_count": 452,
     "metadata": {},
     "output_type": "execute_result"
    }
   ],
   "source": [
    "# Get the number of unique universities across all years\n",
    "unique_universities = uni_rankings['university'].nunique()\n",
    "unique_universities"
   ]
  },
  {
   "cell_type": "code",
   "execution_count": 453,
   "metadata": {},
   "outputs": [
    {
     "data": {
      "text/plain": [
       "year\n",
       "2017     883\n",
       "2018     929\n",
       "2019     953\n",
       "2020    1003\n",
       "2021    1094\n",
       "2022    1219\n",
       "Name: university, dtype: int64"
      ]
     },
     "execution_count": 453,
     "metadata": {},
     "output_type": "execute_result"
    }
   ],
   "source": [
    "# Group the DataFrame by 'Year' and calculate the count of unique universities per year\n",
    "unique_universities_per_year = uni_rankings.groupby('year')['university'].nunique()\n",
    "unique_universities_per_year"
   ]
  },
  {
   "cell_type": "code",
   "execution_count": 454,
   "metadata": {},
   "outputs": [],
   "source": [
    "# Function to split, convert to float, and calculate the average rank\n",
    "def split_and_average_rank(rank):\n",
    "    \n",
    "    # Split the rank values using '-'\n",
    "    rank_parts = rank.split('-')\n",
    "    \n",
    "    # Convert each part to float\n",
    "    rank_values = [float(part) for part in rank_parts]\n",
    "    \n",
    "    # Calculate the average rank\n",
    "    average_rank = sum(rank_values) / len(rank_values)\n",
    "    \n",
    "    return average_rank\n",
    "\n",
    "# Apply the function to the 'Rank' column\n",
    "uni_rankings['avg_rank'] = uni_rankings['rank_display'].apply(split_and_average_rank)\n",
    "\n",
    "# Print the DataFrame with the average rank\n",
    "# print(uni_rankings)"
   ]
  },
  {
   "cell_type": "code",
   "execution_count": 455,
   "metadata": {},
   "outputs": [
    {
     "name": "stdout",
     "output_type": "stream",
     "text": [
      "<class 'pandas.core.frame.DataFrame'>\n",
      "Int64Index: 6081 entries, 0 to 6481\n",
      "Data columns (total 13 columns):\n",
      "university                6081 non-null object\n",
      "year                      6081 non-null int64\n",
      "rank_display              6081 non-null object\n",
      "country                   6081 non-null object\n",
      "city                      6081 non-null object\n",
      "region                    6081 non-null object\n",
      "type                      6081 non-null object\n",
      "research_output           6081 non-null object\n",
      "student_faculty_ratio     6081 non-null float64\n",
      "international_students    6081 non-null object\n",
      "size                      6081 non-null object\n",
      "faculty_count             6081 non-null object\n",
      "avg_rank                  6081 non-null float64\n",
      "dtypes: float64(2), int64(1), object(10)\n",
      "memory usage: 665.1+ KB\n"
     ]
    }
   ],
   "source": [
    "uni_rankings.info()"
   ]
  },
  {
   "cell_type": "code",
   "execution_count": 456,
   "metadata": {},
   "outputs": [],
   "source": [
    "# function to check if value can not be converted to int\n",
    "def isnot_int(val):\n",
    "    try:\n",
    "        int_val = int(val)\n",
    "        return False\n",
    "    except:\n",
    "        return True\n",
    "\n",
    "def isnot_float(val):\n",
    "    try:\n",
    "        int_val = float(val)\n",
    "        return False\n",
    "    except:\n",
    "        return True"
   ]
  },
  {
   "cell_type": "code",
   "execution_count": 457,
   "metadata": {},
   "outputs": [
    {
     "name": "stdout",
     "output_type": "stream",
     "text": [
      "4137 values cannot be converted to int.\n"
     ]
    }
   ],
   "source": [
    "not_converted_values = uni_rankings[uni_rankings['international_students'].map(isnot_int)]\n",
    "print(len(not_converted_values),\"values cannot be converted to int.\")\n",
    "# Check result\n",
    "# not_converted_values"
   ]
  },
  {
   "cell_type": "code",
   "execution_count": 458,
   "metadata": {},
   "outputs": [],
   "source": [
    "uni_rankings['international_students'].replace(',','', regex=True, inplace=True)"
   ]
  },
  {
   "cell_type": "code",
   "execution_count": 459,
   "metadata": {},
   "outputs": [
    {
     "name": "stdout",
     "output_type": "stream",
     "text": [
      "1970 values cannot be converted to int.\n"
     ]
    }
   ],
   "source": [
    "not_converted_values = uni_rankings[uni_rankings['international_students'].map(isnot_int)]\n",
    "print(len(not_converted_values),\"values cannot be converted to int.\")\n",
    "# Check result\n",
    "# not_converted_values"
   ]
  },
  {
   "cell_type": "code",
   "execution_count": 460,
   "metadata": {},
   "outputs": [],
   "source": [
    "uni_rankings['international_students'].replace('\\.','', regex=True, inplace=True)"
   ]
  },
  {
   "cell_type": "code",
   "execution_count": 461,
   "metadata": {},
   "outputs": [],
   "source": [
    "uni_rankings[\"international_students\"] = pd.to_numeric(uni_rankings[\"international_students\"])"
   ]
  },
  {
   "cell_type": "code",
   "execution_count": 462,
   "metadata": {},
   "outputs": [
    {
     "name": "stdout",
     "output_type": "stream",
     "text": [
      "<class 'pandas.core.frame.DataFrame'>\n",
      "Int64Index: 6081 entries, 0 to 6481\n",
      "Data columns (total 13 columns):\n",
      "university                6081 non-null object\n",
      "year                      6081 non-null int64\n",
      "rank_display              6081 non-null object\n",
      "country                   6081 non-null object\n",
      "city                      6081 non-null object\n",
      "region                    6081 non-null object\n",
      "type                      6081 non-null object\n",
      "research_output           6081 non-null object\n",
      "student_faculty_ratio     6081 non-null float64\n",
      "international_students    6081 non-null int64\n",
      "size                      6081 non-null object\n",
      "faculty_count             6081 non-null object\n",
      "avg_rank                  6081 non-null float64\n",
      "dtypes: float64(2), int64(2), object(9)\n",
      "memory usage: 665.1+ KB\n"
     ]
    }
   ],
   "source": [
    "uni_rankings.info()"
   ]
  },
  {
   "cell_type": "code",
   "execution_count": 463,
   "metadata": {},
   "outputs": [
    {
     "name": "stdout",
     "output_type": "stream",
     "text": [
      "4345 values cannot be converted to int.\n"
     ]
    }
   ],
   "source": [
    "not_converted_values = uni_rankings[uni_rankings['faculty_count'].map(isnot_int)]\n",
    "print(len(not_converted_values),\"values cannot be converted to int.\")\n",
    "# Check result\n",
    "# not_converted_values"
   ]
  },
  {
   "cell_type": "code",
   "execution_count": 464,
   "metadata": {},
   "outputs": [],
   "source": [
    "uni_rankings['faculty_count'].replace(',','', regex=True, inplace=True)"
   ]
  },
  {
   "cell_type": "code",
   "execution_count": 465,
   "metadata": {},
   "outputs": [],
   "source": [
    "uni_rankings['faculty_count'].replace('\\.','', regex=True, inplace=True)"
   ]
  },
  {
   "cell_type": "code",
   "execution_count": 466,
   "metadata": {},
   "outputs": [],
   "source": [
    "uni_rankings[\"faculty_count\"] = pd.to_numeric(uni_rankings[\"faculty_count\"])"
   ]
  },
  {
   "cell_type": "code",
   "execution_count": 467,
   "metadata": {},
   "outputs": [
    {
     "name": "stdout",
     "output_type": "stream",
     "text": [
      "<class 'pandas.core.frame.DataFrame'>\n",
      "Int64Index: 6081 entries, 0 to 6481\n",
      "Data columns (total 13 columns):\n",
      "university                6081 non-null object\n",
      "year                      6081 non-null int64\n",
      "rank_display              6081 non-null object\n",
      "country                   6081 non-null object\n",
      "city                      6081 non-null object\n",
      "region                    6081 non-null object\n",
      "type                      6081 non-null object\n",
      "research_output           6081 non-null object\n",
      "student_faculty_ratio     6081 non-null float64\n",
      "international_students    6081 non-null int64\n",
      "size                      6081 non-null object\n",
      "faculty_count             6081 non-null int64\n",
      "avg_rank                  6081 non-null float64\n",
      "dtypes: float64(2), int64(3), object(8)\n",
      "memory usage: 665.1+ KB\n"
     ]
    }
   ],
   "source": [
    "uni_rankings.info()"
   ]
  },
  {
   "cell_type": "code",
   "execution_count": 468,
   "metadata": {},
   "outputs": [],
   "source": [
    "uni_rankings = uni_rankings.drop('rank_display', axis=1)\n",
    "cat_df = uni_rankings.select_dtypes(include=['object'])"
   ]
  },
  {
   "cell_type": "code",
   "execution_count": 469,
   "metadata": {},
   "outputs": [
    {
     "name": "stdout",
     "output_type": "stream",
     "text": [
      "Index(['university', 'country', 'city', 'region', 'type', 'research_output',\n",
      "       'size'],\n",
      "      dtype='object')\n"
     ]
    }
   ],
   "source": [
    "print(cat_df.columns)"
   ]
  },
  {
   "cell_type": "code",
   "execution_count": 470,
   "metadata": {},
   "outputs": [
    {
     "data": {
      "text/plain": [
       "(6081, 12)"
      ]
     },
     "execution_count": 470,
     "metadata": {},
     "output_type": "execute_result"
    }
   ],
   "source": [
    "uni_rankings.shape"
   ]
  },
  {
   "cell_type": "code",
   "execution_count": 471,
   "metadata": {},
   "outputs": [],
   "source": [
    "uni_rankings['research_output'] = uni_rankings['research_output'].apply(lambda x:x.lower())"
   ]
  },
  {
   "cell_type": "code",
   "execution_count": 472,
   "metadata": {},
   "outputs": [],
   "source": [
    "# Map the 'size' column to numerical values\n",
    "size_mapping = {'S': 1, 'M': 2, 'L': 3, 'XL': 4}\n",
    "uni_rankings['size'] = uni_rankings['size'].map(size_mapping)"
   ]
  },
  {
   "cell_type": "code",
   "execution_count": 473,
   "metadata": {},
   "outputs": [],
   "source": [
    "# Map the 'research_output' column to numerical values\n",
    "research_output_mapping = {'low': 1, 'medium': 2, 'high': 3, 'very high': 4}\n",
    "uni_rankings['research_output'] = uni_rankings['research_output'].map(research_output_mapping)"
   ]
  },
  {
   "cell_type": "code",
   "execution_count": 474,
   "metadata": {},
   "outputs": [],
   "source": [
    "df_type_cols = pd.get_dummies(uni_rankings['type'],prefix='Type', prefix_sep='_', dummy_na=False)"
   ]
  },
  {
   "cell_type": "code",
   "execution_count": 475,
   "metadata": {},
   "outputs": [],
   "source": [
    "# df_research_output = pd.get_dummies(uni_rankings['research_output'],prefix='resrch_out', prefix_sep='_', dummy_na=False)"
   ]
  },
  {
   "cell_type": "code",
   "execution_count": 476,
   "metadata": {},
   "outputs": [],
   "source": [
    "# df_size = pd.get_dummies(uni_rankings['size'],prefix='size', prefix_sep='_', dummy_na=False)"
   ]
  },
  {
   "cell_type": "code",
   "execution_count": null,
   "metadata": {},
   "outputs": [],
   "source": []
  },
  {
   "cell_type": "code",
   "execution_count": 477,
   "metadata": {},
   "outputs": [],
   "source": [
    "df = pd.concat([uni_rankings, df_type_cols], axis=1)"
   ]
  },
  {
   "cell_type": "code",
   "execution_count": 478,
   "metadata": {},
   "outputs": [
    {
     "data": {
      "text/plain": [
       "Index(['university', 'year', 'country', 'city', 'region', 'type',\n",
       "       'research_output', 'student_faculty_ratio', 'international_students',\n",
       "       'size', 'faculty_count', 'avg_rank', 'Type_Private', 'Type_Public'],\n",
       "      dtype='object')"
      ]
     },
     "execution_count": 478,
     "metadata": {},
     "output_type": "execute_result"
    }
   ],
   "source": [
    "df.columns"
   ]
  },
  {
   "cell_type": "code",
   "execution_count": 479,
   "metadata": {},
   "outputs": [
    {
     "data": {
      "text/html": [
       "<div>\n",
       "<style scoped>\n",
       "    .dataframe tbody tr th:only-of-type {\n",
       "        vertical-align: middle;\n",
       "    }\n",
       "\n",
       "    .dataframe tbody tr th {\n",
       "        vertical-align: top;\n",
       "    }\n",
       "\n",
       "    .dataframe thead th {\n",
       "        text-align: right;\n",
       "    }\n",
       "</style>\n",
       "<table border=\"1\" class=\"dataframe\">\n",
       "  <thead>\n",
       "    <tr style=\"text-align: right;\">\n",
       "      <th></th>\n",
       "      <th>university</th>\n",
       "      <th>year</th>\n",
       "      <th>country</th>\n",
       "      <th>city</th>\n",
       "      <th>region</th>\n",
       "      <th>type</th>\n",
       "      <th>research_output</th>\n",
       "      <th>student_faculty_ratio</th>\n",
       "      <th>international_students</th>\n",
       "      <th>size</th>\n",
       "      <th>faculty_count</th>\n",
       "      <th>avg_rank</th>\n",
       "      <th>Type_Private</th>\n",
       "      <th>Type_Public</th>\n",
       "    </tr>\n",
       "  </thead>\n",
       "  <tbody>\n",
       "    <tr>\n",
       "      <th>0</th>\n",
       "      <td>Massachusetts Institute of Technology (MIT)</td>\n",
       "      <td>2017</td>\n",
       "      <td>United States</td>\n",
       "      <td>Cambridge</td>\n",
       "      <td>North America</td>\n",
       "      <td>Private</td>\n",
       "      <td>4</td>\n",
       "      <td>4.0</td>\n",
       "      <td>3730</td>\n",
       "      <td>2</td>\n",
       "      <td>3065</td>\n",
       "      <td>1.0</td>\n",
       "      <td>1</td>\n",
       "      <td>0</td>\n",
       "    </tr>\n",
       "    <tr>\n",
       "      <th>1</th>\n",
       "      <td>Stanford University</td>\n",
       "      <td>2017</td>\n",
       "      <td>United States</td>\n",
       "      <td>Stanford</td>\n",
       "      <td>North America</td>\n",
       "      <td>Private</td>\n",
       "      <td>4</td>\n",
       "      <td>3.0</td>\n",
       "      <td>3879</td>\n",
       "      <td>3</td>\n",
       "      <td>4725</td>\n",
       "      <td>2.0</td>\n",
       "      <td>1</td>\n",
       "      <td>0</td>\n",
       "    </tr>\n",
       "    <tr>\n",
       "      <th>2</th>\n",
       "      <td>Harvard University</td>\n",
       "      <td>2017</td>\n",
       "      <td>United States</td>\n",
       "      <td>Cambridge</td>\n",
       "      <td>North America</td>\n",
       "      <td>Private</td>\n",
       "      <td>4</td>\n",
       "      <td>5.0</td>\n",
       "      <td>5877</td>\n",
       "      <td>3</td>\n",
       "      <td>4646</td>\n",
       "      <td>3.0</td>\n",
       "      <td>1</td>\n",
       "      <td>0</td>\n",
       "    </tr>\n",
       "    <tr>\n",
       "      <th>3</th>\n",
       "      <td>University of Cambridge</td>\n",
       "      <td>2017</td>\n",
       "      <td>United Kingdom</td>\n",
       "      <td>Cambridge</td>\n",
       "      <td>Europe</td>\n",
       "      <td>Public</td>\n",
       "      <td>4</td>\n",
       "      <td>4.0</td>\n",
       "      <td>7925</td>\n",
       "      <td>3</td>\n",
       "      <td>5800</td>\n",
       "      <td>4.0</td>\n",
       "      <td>0</td>\n",
       "      <td>1</td>\n",
       "    </tr>\n",
       "    <tr>\n",
       "      <th>4</th>\n",
       "      <td>California Institute of Technology (Caltech)</td>\n",
       "      <td>2017</td>\n",
       "      <td>United States</td>\n",
       "      <td>Pasadena</td>\n",
       "      <td>North America</td>\n",
       "      <td>Private</td>\n",
       "      <td>4</td>\n",
       "      <td>2.0</td>\n",
       "      <td>692</td>\n",
       "      <td>1</td>\n",
       "      <td>968</td>\n",
       "      <td>5.0</td>\n",
       "      <td>1</td>\n",
       "      <td>0</td>\n",
       "    </tr>\n",
       "  </tbody>\n",
       "</table>\n",
       "</div>"
      ],
      "text/plain": [
       "                                     university  year         country  \\\n",
       "0  Massachusetts Institute of Technology (MIT)   2017   United States   \n",
       "1                           Stanford University  2017   United States   \n",
       "2                            Harvard University  2017   United States   \n",
       "3                       University of Cambridge  2017  United Kingdom   \n",
       "4  California Institute of Technology (Caltech)  2017   United States   \n",
       "\n",
       "        city         region     type  research_output  student_faculty_ratio  \\\n",
       "0  Cambridge  North America  Private                4                    4.0   \n",
       "1   Stanford  North America  Private                4                    3.0   \n",
       "2  Cambridge  North America  Private                4                    5.0   \n",
       "3  Cambridge         Europe   Public                4                    4.0   \n",
       "4   Pasadena  North America  Private                4                    2.0   \n",
       "\n",
       "   international_students  size  faculty_count  avg_rank  Type_Private  \\\n",
       "0                    3730     2           3065       1.0             1   \n",
       "1                    3879     3           4725       2.0             1   \n",
       "2                    5877     3           4646       3.0             1   \n",
       "3                    7925     3           5800       4.0             0   \n",
       "4                     692     1            968       5.0             1   \n",
       "\n",
       "   Type_Public  \n",
       "0            0  \n",
       "1            0  \n",
       "2            0  \n",
       "3            1  \n",
       "4            0  "
      ]
     },
     "execution_count": 479,
     "metadata": {},
     "output_type": "execute_result"
    }
   ],
   "source": [
    "df.head()"
   ]
  },
  {
   "cell_type": "code",
   "execution_count": 480,
   "metadata": {},
   "outputs": [],
   "source": [
    "df = df.drop('type', axis=1)"
   ]
  },
  {
   "cell_type": "code",
   "execution_count": 481,
   "metadata": {},
   "outputs": [
    {
     "name": "stdout",
     "output_type": "stream",
     "text": [
      "<class 'pandas.core.frame.DataFrame'>\n",
      "Int64Index: 6081 entries, 0 to 6481\n",
      "Data columns (total 13 columns):\n",
      "university                6081 non-null object\n",
      "year                      6081 non-null int64\n",
      "country                   6081 non-null object\n",
      "city                      6081 non-null object\n",
      "region                    6081 non-null object\n",
      "research_output           6081 non-null int64\n",
      "student_faculty_ratio     6081 non-null float64\n",
      "international_students    6081 non-null int64\n",
      "size                      6081 non-null int64\n",
      "faculty_count             6081 non-null int64\n",
      "avg_rank                  6081 non-null float64\n",
      "Type_Private              6081 non-null uint8\n",
      "Type_Public               6081 non-null uint8\n",
      "dtypes: float64(2), int64(5), object(4), uint8(2)\n",
      "memory usage: 582.0+ KB\n"
     ]
    }
   ],
   "source": [
    "df.info()"
   ]
  },
  {
   "cell_type": "code",
   "execution_count": null,
   "metadata": {},
   "outputs": [],
   "source": []
  },
  {
   "cell_type": "code",
   "execution_count": null,
   "metadata": {},
   "outputs": [],
   "source": []
  },
  {
   "cell_type": "code",
   "execution_count": 482,
   "metadata": {},
   "outputs": [],
   "source": [
    "# Have my full cleaned DATA here. "
   ]
  },
  {
   "cell_type": "code",
   "execution_count": 483,
   "metadata": {},
   "outputs": [],
   "source": [
    "#1. Which country is preferred by international students?"
   ]
  },
  {
   "cell_type": "code",
   "execution_count": 484,
   "metadata": {},
   "outputs": [
    {
     "data": {
      "text/plain": [
       "(6081, 13)"
      ]
     },
     "execution_count": 484,
     "metadata": {},
     "output_type": "execute_result"
    }
   ],
   "source": [
    "df.shape"
   ]
  },
  {
   "cell_type": "code",
   "execution_count": 485,
   "metadata": {},
   "outputs": [],
   "source": [
    "# Group the DataFrame by 'Country' and sum the number of international students\n",
    "country_preferences = df.groupby('country')['international_students'].sum()\n"
   ]
  },
  {
   "cell_type": "code",
   "execution_count": null,
   "metadata": {},
   "outputs": [],
   "source": []
  },
  {
   "cell_type": "code",
   "execution_count": 486,
   "metadata": {},
   "outputs": [
    {
     "name": "stdout",
     "output_type": "stream",
     "text": [
      "The country preferred by international students is United States with a total of 2922814 international students.\n"
     ]
    }
   ],
   "source": [
    "# Group the DataFrame by 'Country' and sum the number of international students\n",
    "country_preferences = df.groupby('country')['international_students'].sum()\n",
    "\n",
    "# Find the country with the highest total of international students\n",
    "preferred_country = country_preferences.idxmax()\n",
    "total_students = country_preferences.max()\n",
    "\n",
    "# Print the result\n",
    "print(f\"The country preferred by international students is {preferred_country} with a total of {total_students} international students.\")"
   ]
  },
  {
   "cell_type": "code",
   "execution_count": null,
   "metadata": {},
   "outputs": [],
   "source": []
  },
  {
   "cell_type": "code",
   "execution_count": 487,
   "metadata": {},
   "outputs": [],
   "source": [
    "# Group the DataFrame by 'Year' and 'Country' and sum the number of international students\n",
    "year_country_preferences = df.groupby(['year', 'country'])['international_students'].sum()\n",
    "# print(year_country_preferences)"
   ]
  },
  {
   "cell_type": "code",
   "execution_count": 488,
   "metadata": {},
   "outputs": [
    {
     "data": {
      "text/plain": [
       "year\n",
       "2017    (2017, United States)\n",
       "2018    (2018, United States)\n",
       "2019    (2019, United States)\n",
       "2020    (2020, United States)\n",
       "2021    (2021, United States)\n",
       "2022    (2022, United States)\n",
       "Name: international_students, dtype: object"
      ]
     },
     "execution_count": 488,
     "metadata": {},
     "output_type": "execute_result"
    }
   ],
   "source": [
    "\n",
    "# Find the preferred country for each year\n",
    "preferred_countries_yearwise = year_country_preferences.groupby('year').idxmax()\n",
    "preferred_countries_yearwise\n"
   ]
  },
  {
   "cell_type": "code",
   "execution_count": 490,
   "metadata": {},
   "outputs": [
    {
     "name": "stdout",
     "output_type": "stream",
     "text": [
      "Top 5 Preferred Countries in 2017:\n",
      "            country  international_students\n",
      "486   United States                  476384\n",
      "480  United Kingdom                  426752\n",
      "6         Australia                  285599\n",
      "70           Canada                  185999\n",
      "156         Germany                  169597\n",
      "Top 5 Preferred Countries in 2018:\n",
      "            country  international_students\n",
      "487   United States                  483384\n",
      "481  United Kingdom                  450596\n",
      "7         Australia                  291722\n",
      "71           Canada                  185999\n",
      "157         Germany                  173535\n",
      "Top 5 Preferred Countries in 2019:\n",
      "            country  international_students\n",
      "488   United States                  483259\n",
      "482  United Kingdom                  446931\n",
      "8         Australia                  291722\n",
      "72           Canada                  185999\n",
      "158         Germany                  173535\n",
      "Top 5 Preferred Countries in 2020:\n",
      "            country  international_students\n",
      "489   United States                  485680\n",
      "483  United Kingdom                  482502\n",
      "9         Australia                  291722\n",
      "73           Canada                  185999\n",
      "159         Germany                  175836\n",
      "Top 5 Preferred Countries in 2021:\n",
      "            country  international_students\n",
      "490   United States                  485555\n",
      "484  United Kingdom                  479794\n",
      "10        Australia                  288633\n",
      "74           Canada                  185999\n",
      "160         Germany                  175836\n",
      "Top 5 Preferred Countries in 2022:\n",
      "            country  international_students\n",
      "491   United States                  508552\n",
      "485  United Kingdom                  489372\n",
      "11        Australia                  291909\n",
      "75           Canada                  189470\n",
      "161         Germany                  175836\n"
     ]
    },
    {
     "data": {
      "image/png": "[encoded data removed]",
      "text/plain": [
       "<Figure size 864x576 with 1 Axes>"
      ]
     },
     "metadata": {
      "needs_background": "light"
     },
     "output_type": "display_data"
    }
   ],
   "source": [
    "int_students_df = df.groupby(['country', 'year'])['international_students'].sum().reset_index()\n",
    "\n",
    "# Get unique years in the DataFrame\n",
    "unique_years = int_students_df['year'].unique()\n",
    "# Initialize a DataFrame to store the top 5 countries for each year\n",
    "top_5_per_year = pd.DataFrame()\n",
    "\n",
    "# Iterate through each unique year\n",
    "for year in unique_years:\n",
    "    year_data = int_students_df[int_students_df['year'] == year]\n",
    "    \n",
    "    # Find the top 5 preferred countries for the current year\n",
    "    top_5_countries = year_data.nlargest(5, 'international_students')\n",
    "    print(f\"Top 5 Preferred Countries in {year}:\")\n",
    "    print(top_5_countries[['country', 'international_students']])\n",
    "    \n",
    "    # Append the top 5 countries for the current year to the DataFrame\n",
    "    top_5_per_year = top_5_per_year.append(top_5_countries, ignore_index=True)\n",
    "\n",
    "# Create a country-wise plot for the top countries across all years\n",
    "plt.figure(figsize=(12, 8))\n",
    "for country in top_5_per_year['country'].unique():\n",
    "    country_data = top_5_per_year[top_5_per_year['country'] == country]\n",
    "    \n",
    "    # Plot the trend of year vs. no of international students for the current country\n",
    "    plt.plot(country_data['year'], country_data['international_students'], marker='o', label=country)\n",
    "\n",
    "plt.title('Trend of International Students by Country (Top 5)')\n",
    "plt.xlabel('Year')\n",
    "plt.ylabel('Number of International Students')\n",
    "plt.legend(loc='best')\n",
    "plt.grid(True)\n",
    "plt.show()"
   ]
  },
  {
   "cell_type": "code",
   "execution_count": 491,
   "metadata": {},
   "outputs": [
    {
     "data": {
      "image/png": "[encoded data removed]",
      "text/plain": [
       "<Figure size 720x576 with 2 Axes>"
      ]
     },
     "metadata": {
      "needs_background": "light"
     },
     "output_type": "display_data"
    }
   ],
   "source": [
    "# Calculate the correlation matrix\n",
    "correlation_matrix = df.corr()\n",
    "\n",
    "# Create a heatmap to visualize the correlations\n",
    "plt.figure(figsize=(10, 8))\n",
    "sns.heatmap(correlation_matrix, annot=True, cmap='coolwarm', fmt='.2f')\n",
    "plt.title('Correlation Heatmap')\n",
    "plt.show()"
   ]
  },
  {
   "cell_type": "code",
   "execution_count": null,
   "metadata": {},
   "outputs": [],
   "source": [
    "# 2. What makes a best ranked university?"
   ]
  },
  {
   "cell_type": "code",
   "execution_count": 498,
   "metadata": {},
   "outputs": [
    {
     "ename": "AttributeError",
     "evalue": "'PathCollection' object has no property 'order'",
     "output_type": "error",
     "traceback": [
      "\u001b[0;31m---------------------------------------------------------------------------\u001b[0m",
      "\u001b[0;31mAttributeError\u001b[0m                            Traceback (most recent call last)",
      "\u001b[0;32m<ipython-input-498-1bacffe6f16d>\u001b[0m in \u001b[0;36m<module>\u001b[0;34m\u001b[0m\n\u001b[1;32m     20\u001b[0m \u001b[0;34m\u001b[0m\u001b[0m\n\u001b[1;32m     21\u001b[0m \u001b[0;31m# Bar plot for 'Size' vs. 'Rank'\u001b[0m\u001b[0;34m\u001b[0m\u001b[0;34m\u001b[0m\u001b[0;34m\u001b[0m\u001b[0m\n\u001b[0;32m---> 22\u001b[0;31m \u001b[0msns\u001b[0m\u001b[0;34m.\u001b[0m\u001b[0mscatterplot\u001b[0m\u001b[0;34m(\u001b[0m\u001b[0mdata\u001b[0m\u001b[0;34m=\u001b[0m\u001b[0mdf\u001b[0m\u001b[0;34m,\u001b[0m \u001b[0mx\u001b[0m\u001b[0;34m=\u001b[0m\u001b[0;34m'size'\u001b[0m\u001b[0;34m,\u001b[0m \u001b[0my\u001b[0m\u001b[0;34m=\u001b[0m\u001b[0;34m'avg_rank'\u001b[0m\u001b[0;34m,\u001b[0m \u001b[0max\u001b[0m\u001b[0;34m=\u001b[0m\u001b[0maxes\u001b[0m\u001b[0;34m[\u001b[0m\u001b[0;36m1\u001b[0m\u001b[0;34m,\u001b[0m \u001b[0;36m0\u001b[0m\u001b[0;34m]\u001b[0m\u001b[0;34m,\u001b[0m \u001b[0morder\u001b[0m\u001b[0;34m=\u001b[0m\u001b[0;34m[\u001b[0m\u001b[0;34m'S'\u001b[0m\u001b[0;34m,\u001b[0m \u001b[0;34m'M'\u001b[0m\u001b[0;34m,\u001b[0m \u001b[0;34m'L'\u001b[0m\u001b[0;34m,\u001b[0m\u001b[0;34m'XL'\u001b[0m\u001b[0;34m]\u001b[0m\u001b[0;34m)\u001b[0m\u001b[0;34m\u001b[0m\u001b[0;34m\u001b[0m\u001b[0m\n\u001b[0m\u001b[1;32m     23\u001b[0m \u001b[0maxes\u001b[0m\u001b[0;34m[\u001b[0m\u001b[0;36m1\u001b[0m\u001b[0;34m,\u001b[0m \u001b[0;36m0\u001b[0m\u001b[0;34m]\u001b[0m\u001b[0;34m.\u001b[0m\u001b[0mset_xlabel\u001b[0m\u001b[0;34m(\u001b[0m\u001b[0;34m'size'\u001b[0m\u001b[0;34m)\u001b[0m\u001b[0;34m\u001b[0m\u001b[0;34m\u001b[0m\u001b[0m\n\u001b[1;32m     24\u001b[0m \u001b[0maxes\u001b[0m\u001b[0;34m[\u001b[0m\u001b[0;36m1\u001b[0m\u001b[0;34m,\u001b[0m \u001b[0;36m0\u001b[0m\u001b[0;34m]\u001b[0m\u001b[0;34m.\u001b[0m\u001b[0mset_ylabel\u001b[0m\u001b[0;34m(\u001b[0m\u001b[0;34m'University Rank'\u001b[0m\u001b[0;34m)\u001b[0m\u001b[0;34m\u001b[0m\u001b[0;34m\u001b[0m\u001b[0m\n",
      "\u001b[0;32m~/anaconda3/lib/python3.7/site-packages/seaborn/relational.py\u001b[0m in \u001b[0;36mscatterplot\u001b[0;34m(x, y, hue, style, size, data, palette, hue_order, hue_norm, sizes, size_order, size_norm, markers, style_order, x_bins, y_bins, units, estimator, ci, n_boot, alpha, x_jitter, y_jitter, legend, ax, **kwargs)\u001b[0m\n\u001b[1;32m   1339\u001b[0m         \u001b[0max\u001b[0m \u001b[0;34m=\u001b[0m \u001b[0mplt\u001b[0m\u001b[0;34m.\u001b[0m\u001b[0mgca\u001b[0m\u001b[0;34m(\u001b[0m\u001b[0;34m)\u001b[0m\u001b[0;34m\u001b[0m\u001b[0;34m\u001b[0m\u001b[0m\n\u001b[1;32m   1340\u001b[0m \u001b[0;34m\u001b[0m\u001b[0m\n\u001b[0;32m-> 1341\u001b[0;31m     \u001b[0mp\u001b[0m\u001b[0;34m.\u001b[0m\u001b[0mplot\u001b[0m\u001b[0;34m(\u001b[0m\u001b[0max\u001b[0m\u001b[0;34m,\u001b[0m \u001b[0mkwargs\u001b[0m\u001b[0;34m)\u001b[0m\u001b[0;34m\u001b[0m\u001b[0;34m\u001b[0m\u001b[0m\n\u001b[0m\u001b[1;32m   1342\u001b[0m \u001b[0;34m\u001b[0m\u001b[0m\n\u001b[1;32m   1343\u001b[0m     \u001b[0;32mreturn\u001b[0m \u001b[0max\u001b[0m\u001b[0;34m\u001b[0m\u001b[0;34m\u001b[0m\u001b[0m\n",
      "\u001b[0;32m~/anaconda3/lib/python3.7/site-packages/seaborn/relational.py\u001b[0m in \u001b[0;36mplot\u001b[0;34m(self, ax, kws)\u001b[0m\n\u001b[1;32m    877\u001b[0m         \u001b[0;31m# function will advance the axes property cycle.\u001b[0m\u001b[0;34m\u001b[0m\u001b[0;34m\u001b[0m\u001b[0;34m\u001b[0m\u001b[0m\n\u001b[1;32m    878\u001b[0m \u001b[0;34m\u001b[0m\u001b[0m\n\u001b[0;32m--> 879\u001b[0;31m         \u001b[0mscout\u001b[0m \u001b[0;34m=\u001b[0m \u001b[0max\u001b[0m\u001b[0;34m.\u001b[0m\u001b[0mscatter\u001b[0m\u001b[0;34m(\u001b[0m\u001b[0;34m[\u001b[0m\u001b[0;34m]\u001b[0m\u001b[0;34m,\u001b[0m \u001b[0;34m[\u001b[0m\u001b[0;34m]\u001b[0m\u001b[0;34m,\u001b[0m \u001b[0;34m**\u001b[0m\u001b[0mkws\u001b[0m\u001b[0;34m)\u001b[0m\u001b[0;34m\u001b[0m\u001b[0;34m\u001b[0m\u001b[0m\n\u001b[0m\u001b[1;32m    880\u001b[0m         \u001b[0ms\u001b[0m \u001b[0;34m=\u001b[0m \u001b[0mkws\u001b[0m\u001b[0;34m.\u001b[0m\u001b[0mpop\u001b[0m\u001b[0;34m(\u001b[0m\u001b[0;34m\"s\"\u001b[0m\u001b[0;34m,\u001b[0m \u001b[0mscout\u001b[0m\u001b[0;34m.\u001b[0m\u001b[0mget_sizes\u001b[0m\u001b[0;34m(\u001b[0m\u001b[0;34m)\u001b[0m\u001b[0;34m)\u001b[0m\u001b[0;34m\u001b[0m\u001b[0;34m\u001b[0m\u001b[0m\n\u001b[1;32m    881\u001b[0m         \u001b[0mc\u001b[0m \u001b[0;34m=\u001b[0m \u001b[0mkws\u001b[0m\u001b[0;34m.\u001b[0m\u001b[0mpop\u001b[0m\u001b[0;34m(\u001b[0m\u001b[0;34m\"c\"\u001b[0m\u001b[0;34m,\u001b[0m \u001b[0mscout\u001b[0m\u001b[0;34m.\u001b[0m\u001b[0mget_facecolors\u001b[0m\u001b[0;34m(\u001b[0m\u001b[0;34m)\u001b[0m\u001b[0;34m)\u001b[0m\u001b[0;34m\u001b[0m\u001b[0;34m\u001b[0m\u001b[0m\n",
      "\u001b[0;32m~/anaconda3/lib/python3.7/site-packages/matplotlib/__init__.py\u001b[0m in \u001b[0;36minner\u001b[0;34m(ax, data, *args, **kwargs)\u001b[0m\n\u001b[1;32m   1445\u001b[0m     \u001b[0;32mdef\u001b[0m \u001b[0minner\u001b[0m\u001b[0;34m(\u001b[0m\u001b[0max\u001b[0m\u001b[0;34m,\u001b[0m \u001b[0;34m*\u001b[0m\u001b[0margs\u001b[0m\u001b[0;34m,\u001b[0m \u001b[0mdata\u001b[0m\u001b[0;34m=\u001b[0m\u001b[0;32mNone\u001b[0m\u001b[0;34m,\u001b[0m \u001b[0;34m**\u001b[0m\u001b[0mkwargs\u001b[0m\u001b[0;34m)\u001b[0m\u001b[0;34m:\u001b[0m\u001b[0;34m\u001b[0m\u001b[0;34m\u001b[0m\u001b[0m\n\u001b[1;32m   1446\u001b[0m         \u001b[0;32mif\u001b[0m \u001b[0mdata\u001b[0m \u001b[0;32mis\u001b[0m \u001b[0;32mNone\u001b[0m\u001b[0;34m:\u001b[0m\u001b[0;34m\u001b[0m\u001b[0;34m\u001b[0m\u001b[0m\n\u001b[0;32m-> 1447\u001b[0;31m             \u001b[0;32mreturn\u001b[0m \u001b[0mfunc\u001b[0m\u001b[0;34m(\u001b[0m\u001b[0max\u001b[0m\u001b[0;34m,\u001b[0m \u001b[0;34m*\u001b[0m\u001b[0mmap\u001b[0m\u001b[0;34m(\u001b[0m\u001b[0msanitize_sequence\u001b[0m\u001b[0;34m,\u001b[0m \u001b[0margs\u001b[0m\u001b[0;34m)\u001b[0m\u001b[0;34m,\u001b[0m \u001b[0;34m**\u001b[0m\u001b[0mkwargs\u001b[0m\u001b[0;34m)\u001b[0m\u001b[0;34m\u001b[0m\u001b[0;34m\u001b[0m\u001b[0m\n\u001b[0m\u001b[1;32m   1448\u001b[0m \u001b[0;34m\u001b[0m\u001b[0m\n\u001b[1;32m   1449\u001b[0m         \u001b[0mbound\u001b[0m \u001b[0;34m=\u001b[0m \u001b[0mnew_sig\u001b[0m\u001b[0;34m.\u001b[0m\u001b[0mbind\u001b[0m\u001b[0;34m(\u001b[0m\u001b[0max\u001b[0m\u001b[0;34m,\u001b[0m \u001b[0;34m*\u001b[0m\u001b[0margs\u001b[0m\u001b[0;34m,\u001b[0m \u001b[0;34m**\u001b[0m\u001b[0mkwargs\u001b[0m\u001b[0;34m)\u001b[0m\u001b[0;34m\u001b[0m\u001b[0;34m\u001b[0m\u001b[0m\n",
      "\u001b[0;32m~/anaconda3/lib/python3.7/site-packages/matplotlib/cbook/deprecation.py\u001b[0m in \u001b[0;36mwrapper\u001b[0;34m(*inner_args, **inner_kwargs)\u001b[0m\n\u001b[1;32m    409\u001b[0m                          \u001b[0;32melse\u001b[0m \u001b[0mdeprecation_addendum\u001b[0m\u001b[0;34m,\u001b[0m\u001b[0;34m\u001b[0m\u001b[0;34m\u001b[0m\u001b[0m\n\u001b[1;32m    410\u001b[0m                 **kwargs)\n\u001b[0;32m--> 411\u001b[0;31m         \u001b[0;32mreturn\u001b[0m \u001b[0mfunc\u001b[0m\u001b[0;34m(\u001b[0m\u001b[0;34m*\u001b[0m\u001b[0minner_args\u001b[0m\u001b[0;34m,\u001b[0m \u001b[0;34m**\u001b[0m\u001b[0minner_kwargs\u001b[0m\u001b[0;34m)\u001b[0m\u001b[0;34m\u001b[0m\u001b[0;34m\u001b[0m\u001b[0m\n\u001b[0m\u001b[1;32m    412\u001b[0m \u001b[0;34m\u001b[0m\u001b[0m\n\u001b[1;32m    413\u001b[0m     \u001b[0;32mreturn\u001b[0m \u001b[0mwrapper\u001b[0m\u001b[0;34m\u001b[0m\u001b[0;34m\u001b[0m\u001b[0m\n",
      "\u001b[0;32m~/anaconda3/lib/python3.7/site-packages/matplotlib/axes/_axes.py\u001b[0m in \u001b[0;36mscatter\u001b[0;34m(self, x, y, s, c, marker, cmap, norm, vmin, vmax, alpha, linewidths, verts, edgecolors, plotnonfinite, **kwargs)\u001b[0m\n\u001b[1;32m   4496\u001b[0m                 )\n\u001b[1;32m   4497\u001b[0m         \u001b[0mcollection\u001b[0m\u001b[0;34m.\u001b[0m\u001b[0mset_transform\u001b[0m\u001b[0;34m(\u001b[0m\u001b[0mmtransforms\u001b[0m\u001b[0;34m.\u001b[0m\u001b[0mIdentityTransform\u001b[0m\u001b[0;34m(\u001b[0m\u001b[0;34m)\u001b[0m\u001b[0;34m)\u001b[0m\u001b[0;34m\u001b[0m\u001b[0;34m\u001b[0m\u001b[0m\n\u001b[0;32m-> 4498\u001b[0;31m         \u001b[0mcollection\u001b[0m\u001b[0;34m.\u001b[0m\u001b[0mupdate\u001b[0m\u001b[0;34m(\u001b[0m\u001b[0mkwargs\u001b[0m\u001b[0;34m)\u001b[0m\u001b[0;34m\u001b[0m\u001b[0;34m\u001b[0m\u001b[0m\n\u001b[0m\u001b[1;32m   4499\u001b[0m \u001b[0;34m\u001b[0m\u001b[0m\n\u001b[1;32m   4500\u001b[0m         \u001b[0;32mif\u001b[0m \u001b[0mcolors\u001b[0m \u001b[0;32mis\u001b[0m \u001b[0;32mNone\u001b[0m\u001b[0;34m:\u001b[0m\u001b[0;34m\u001b[0m\u001b[0;34m\u001b[0m\u001b[0m\n",
      "\u001b[0;32m~/anaconda3/lib/python3.7/site-packages/matplotlib/artist.py\u001b[0m in \u001b[0;36mupdate\u001b[0;34m(self, props)\u001b[0m\n\u001b[1;32m    994\u001b[0m                     \u001b[0mfunc\u001b[0m \u001b[0;34m=\u001b[0m \u001b[0mgetattr\u001b[0m\u001b[0;34m(\u001b[0m\u001b[0mself\u001b[0m\u001b[0;34m,\u001b[0m \u001b[0;34mf\"set_{k}\"\u001b[0m\u001b[0;34m,\u001b[0m \u001b[0;32mNone\u001b[0m\u001b[0;34m)\u001b[0m\u001b[0;34m\u001b[0m\u001b[0;34m\u001b[0m\u001b[0m\n\u001b[1;32m    995\u001b[0m                     \u001b[0;32mif\u001b[0m \u001b[0;32mnot\u001b[0m \u001b[0mcallable\u001b[0m\u001b[0;34m(\u001b[0m\u001b[0mfunc\u001b[0m\u001b[0;34m)\u001b[0m\u001b[0;34m:\u001b[0m\u001b[0;34m\u001b[0m\u001b[0;34m\u001b[0m\u001b[0m\n\u001b[0;32m--> 996\u001b[0;31m                         raise AttributeError(f\"{type(self).__name__!r} object \"\n\u001b[0m\u001b[1;32m    997\u001b[0m                                              f\"has no property {k!r}\")\n\u001b[1;32m    998\u001b[0m                     \u001b[0mret\u001b[0m\u001b[0;34m.\u001b[0m\u001b[0mappend\u001b[0m\u001b[0;34m(\u001b[0m\u001b[0mfunc\u001b[0m\u001b[0;34m(\u001b[0m\u001b[0mv\u001b[0m\u001b[0;34m)\u001b[0m\u001b[0;34m)\u001b[0m\u001b[0;34m\u001b[0m\u001b[0;34m\u001b[0m\u001b[0m\n",
      "\u001b[0;31mAttributeError\u001b[0m: 'PathCollection' object has no property 'order'"
     ]
    },
    {
     "data": {
      "image/png": "[encoded data removed]",
      "text/plain": [
       "<Figure size 1152x864 with 4 Axes>"
      ]
     },
     "metadata": {},
     "output_type": "display_data"
    }
   ],
   "source": [
    "#checking this across all years\n",
    "\n",
    "\n",
    "sns.set(style=\"whitegrid\")\n",
    "\n",
    "# Create subplots for different types of plots\n",
    "fig, axes = plt.subplots(2, 2, figsize=(16, 12))\n",
    "\n",
    "# Scatterplot for 'Number of international students' vs. 'Rank'\n",
    "sns.barplot(data=df, x='international_students', y='avg_rank', ax=axes[0, 0])\n",
    "axes[0, 0].set_xlabel('Number of International Students')\n",
    "axes[0, 0].set_ylabel('University Rank')\n",
    "axes[0, 0].set_title('Scatterplot: Intl Students vs. Rank')\n",
    "\n",
    "# Scatterplot for 'Research output' vs. 'Rank'\n",
    "sns.lineplot(data=df, x='research_output', y='avg_rank', ax=axes[0, 1])\n",
    "axes[0, 1].set_xlabel('Research Output')\n",
    "axes[0, 1].set_ylabel('University Rank')\n",
    "axes[0, 1].set_title('Scatterplot: Research Output vs. Rank')\n",
    "\n",
    "# Bar plot for 'Size' vs. 'Rank'\n",
    "sns.scatterplot(data=df, x='size', y='avg_rank', ax=axes[1, 0])\n",
    "axes[1, 0].set_xlabel('size')\n",
    "axes[1, 0].set_ylabel('University Rank')\n",
    "axes[1, 0].set_title('Bar Plot: Size vs. Rank')\n",
    "\n",
    "# Box plot for 'Size' vs. 'Rank'\n",
    "sns.boxplot(data=df, x='size', y='avg_rank', ax=axes[1, 1])\n",
    "axes[1, 1].set_xlabel('Size')\n",
    "axes[1, 1].set_ylabel('University Rank')\n",
    "axes[1, 1].set_title('Box Plot: Size vs. Rank')\n",
    "\n",
    "plt.tight_layout()\n",
    "plt.show()"
   ]
  },
  {
   "cell_type": "code",
   "execution_count": null,
   "metadata": {},
   "outputs": [],
   "source": []
  },
  {
   "cell_type": "code",
   "execution_count": 256,
   "metadata": {},
   "outputs": [
    {
     "data": {
      "image/png": "[encoded data removed]",
      "text/plain": [
       "<Figure size 864x288 with 3 Axes>"
      ]
     },
     "metadata": {
      "needs_background": "light"
     },
     "output_type": "display_data"
    }
   ],
   "source": [
    "plt.figure(figsize=(12, 4))\n",
    "\n",
    "plt.subplot(1, 3, 1)\n",
    "plt.scatter(df['score'], df['avg_rank'])\n",
    "plt.xlabel('Score')\n",
    "plt.ylabel('Rank')\n",
    "plt.title('Score vs. Rank')\n",
    "\n",
    "plt.subplot(1, 3, 2)\n",
    "plt.scatter(df['international_students'], df['avg_rank'])\n",
    "plt.xlabel('international_students')\n",
    "plt.ylabel('Rank')\n",
    "plt.title('international_students vs. Rank')\n",
    "\n",
    "plt.subplot(1, 3, 3)\n",
    "plt.scatter(df['student_faculty_ratio'], df['avg_rank'])\n",
    "plt.xlabel('student_faculty_ratio')\n",
    "plt.ylabel('Rank')\n",
    "plt.title('student faculty ratio vs. Rank')\n",
    "\n",
    "plt.tight_layout()\n",
    "plt.show()"
   ]
  },
  {
   "cell_type": "code",
   "execution_count": 258,
   "metadata": {},
   "outputs": [],
   "source": [
    "# Categorize universities into top-ranked and lower-ranked\n",
    "top_ranked = uni_rankings[uni_rankings['rank_display'] <= 10]\n",
    "lower_ranked = uni_rankings[uni_rankings['rank_display'] > 10]\n",
    "\n",
    "# Calculate the average values of different factors\n",
    "top_avg_values = top_ranked[['score', 'student_faculty_ratio', 'international_students']].mean()\n",
    "lower_avg_values = lower_ranked[['score', 'student_faculty_ratio', 'international_students']].mean()\n"
   ]
  },
  {
   "cell_type": "code",
   "execution_count": 259,
   "metadata": {},
   "outputs": [
    {
     "name": "stdout",
     "output_type": "stream",
     "text": [
      "score                       96.375\n",
      "student_faculty_ratio        4.400\n",
      "international_students    7594.100\n",
      "dtype: float64\n"
     ]
    }
   ],
   "source": [
    "print(top_avg_values)"
   ]
  },
  {
   "cell_type": "code",
   "execution_count": 260,
   "metadata": {},
   "outputs": [
    {
     "name": "stdout",
     "output_type": "stream",
     "text": [
      "score                       45.496193\n",
      "student_faculty_ratio       10.816811\n",
      "international_students    4458.797588\n",
      "dtype: float64\n"
     ]
    }
   ],
   "source": [
    "print(lower_avg_values)"
   ]
  },
  {
   "cell_type": "code",
   "execution_count": null,
   "metadata": {},
   "outputs": [],
   "source": []
  },
  {
   "cell_type": "code",
   "execution_count": 261,
   "metadata": {},
   "outputs": [
    {
     "data": {
      "image/png": "[encoded data removed]",
      "text/plain": [
       "<Figure size 720x432 with 1 Axes>"
      ]
     },
     "metadata": {
      "needs_background": "light"
     },
     "output_type": "display_data"
    }
   ],
   "source": [
    "\n",
    "# Create a bar plot to compare factors for top-ranked vs. lower-ranked\n",
    "plt.figure(figsize=(10, 6))\n",
    "top_avg_values.plot(kind='bar', color='blue', label='Top-Ranked', alpha=0.7)\n",
    "lower_avg_values.plot(kind='bar', color='red', label='Lower-Ranked', alpha=0.7)\n",
    "plt.xlabel('Factors')\n",
    "plt.ylabel('Average Value')\n",
    "plt.title('Factors for Top-Ranked vs. Lower-Ranked Universities')\n",
    "plt.legend()\n",
    "plt.xticks(rotation=0)\n",
    "plt.show()"
   ]
  },
  {
   "cell_type": "code",
   "execution_count": null,
   "metadata": {},
   "outputs": [],
   "source": []
  },
  {
   "cell_type": "markdown",
   "metadata": {
    "papermill": {
     "duration": 0.011316,
     "end_time": "2023-06-04T16:28:57.640959",
     "exception": false,
     "start_time": "2023-06-04T16:28:57.629643",
     "status": "completed"
    },
    "tags": []
   },
   "source": [
    "2.5 we write a function that takes the number from Price and exclude the $ character."
   ]
  },
  {
   "cell_type": "code",
   "execution_count": 6,
   "metadata": {
    "execution": {
     "iopub.execute_input": "2023-06-04T16:28:57.667936Z",
     "iopub.status.busy": "2023-06-04T16:28:57.666141Z",
     "iopub.status.idle": "2023-06-04T16:28:57.674233Z",
     "shell.execute_reply": "2023-06-04T16:28:57.673108Z"
    },
    "papermill": {
     "duration": 0.024776,
     "end_time": "2023-06-04T16:28:57.677192",
     "exception": false,
     "start_time": "2023-06-04T16:28:57.652416",
     "status": "completed"
    },
    "tags": []
   },
   "outputs": [],
   "source": [
    "def handle_price(AirBNB_Calander):\n",
    "    '''\n",
    "    summary : this function cleans the price by removing unwanted characters\n",
    "              and convert it to float \n",
    "              \n",
    "    Input: Dataframe that it's needed to clean the price in it\n",
    "    \n",
    "    Output : AirBNB_Calander with Cleaned price ( $ ,\",\") characters are removed\n",
    "    \n",
    "     '''\n",
    "    AirBNB_Calander['price']=AirBNB_Calander['price'].map(lambda v: float(v[1:].replace(\",\",\"\")) if type(v) != float else v)\n",
    "    return AirBNB_Calander\n"
   ]
  },
  {
   "cell_type": "code",
   "execution_count": null,
   "metadata": {},
   "outputs": [],
   "source": [
    "Which country is preferred by international students?"
   ]
  },
  {
   "cell_type": "code",
   "execution_count": null,
   "metadata": {},
   "outputs": [],
   "source": [
    "What makes a best ranked university?"
   ]
  },
  {
   "cell_type": "code",
   "execution_count": null,
   "metadata": {},
   "outputs": [],
   "source": [
    "What are the primary contributors of high research output?"
   ]
  },
  {
   "cell_type": "code",
   "execution_count": null,
   "metadata": {},
   "outputs": [],
   "source": [
    "Are public unis better than private?"
   ]
  },
  {
   "cell_type": "code",
   "execution_count": 7,
   "metadata": {
    "execution": {
     "iopub.execute_input": "2023-06-04T16:28:57.702768Z",
     "iopub.status.busy": "2023-06-04T16:28:57.702325Z",
     "iopub.status.idle": "2023-06-04T16:28:58.955609Z",
     "shell.execute_reply": "2023-06-04T16:28:58.954415Z"
    },
    "papermill": {
     "duration": 1.269309,
     "end_time": "2023-06-04T16:28:58.958330",
     "exception": false,
     "start_time": "2023-06-04T16:28:57.689021",
     "status": "completed"
    },
    "tags": []
   },
   "outputs": [
    {
     "data": {
      "text/html": [
       "<div>\n",
       "<style scoped>\n",
       "    .dataframe tbody tr th:only-of-type {\n",
       "        vertical-align: middle;\n",
       "    }\n",
       "\n",
       "    .dataframe tbody tr th {\n",
       "        vertical-align: top;\n",
       "    }\n",
       "\n",
       "    .dataframe thead th {\n",
       "        text-align: right;\n",
       "    }\n",
       "</style>\n",
       "<table border=\"1\" class=\"dataframe\">\n",
       "  <thead>\n",
       "    <tr style=\"text-align: right;\">\n",
       "      <th></th>\n",
       "      <th>listing_id</th>\n",
       "      <th>date</th>\n",
       "      <th>available</th>\n",
       "      <th>price</th>\n",
       "    </tr>\n",
       "  </thead>\n",
       "  <tbody>\n",
       "    <tr>\n",
       "      <th>0</th>\n",
       "      <td>241032</td>\n",
       "      <td>2016-01-04</td>\n",
       "      <td>t</td>\n",
       "      <td>85.0</td>\n",
       "    </tr>\n",
       "    <tr>\n",
       "      <th>1</th>\n",
       "      <td>241032</td>\n",
       "      <td>2016-01-05</td>\n",
       "      <td>t</td>\n",
       "      <td>85.0</td>\n",
       "    </tr>\n",
       "    <tr>\n",
       "      <th>2</th>\n",
       "      <td>241032</td>\n",
       "      <td>2016-01-06</td>\n",
       "      <td>f</td>\n",
       "      <td>NaN</td>\n",
       "    </tr>\n",
       "    <tr>\n",
       "      <th>3</th>\n",
       "      <td>241032</td>\n",
       "      <td>2016-01-07</td>\n",
       "      <td>f</td>\n",
       "      <td>NaN</td>\n",
       "    </tr>\n",
       "    <tr>\n",
       "      <th>4</th>\n",
       "      <td>241032</td>\n",
       "      <td>2016-01-08</td>\n",
       "      <td>f</td>\n",
       "      <td>NaN</td>\n",
       "    </tr>\n",
       "    <tr>\n",
       "      <th>...</th>\n",
       "      <td>...</td>\n",
       "      <td>...</td>\n",
       "      <td>...</td>\n",
       "      <td>...</td>\n",
       "    </tr>\n",
       "    <tr>\n",
       "      <th>1393565</th>\n",
       "      <td>10208623</td>\n",
       "      <td>2016-12-29</td>\n",
       "      <td>f</td>\n",
       "      <td>NaN</td>\n",
       "    </tr>\n",
       "    <tr>\n",
       "      <th>1393566</th>\n",
       "      <td>10208623</td>\n",
       "      <td>2016-12-30</td>\n",
       "      <td>f</td>\n",
       "      <td>NaN</td>\n",
       "    </tr>\n",
       "    <tr>\n",
       "      <th>1393567</th>\n",
       "      <td>10208623</td>\n",
       "      <td>2016-12-31</td>\n",
       "      <td>f</td>\n",
       "      <td>NaN</td>\n",
       "    </tr>\n",
       "    <tr>\n",
       "      <th>1393568</th>\n",
       "      <td>10208623</td>\n",
       "      <td>2017-01-01</td>\n",
       "      <td>f</td>\n",
       "      <td>NaN</td>\n",
       "    </tr>\n",
       "    <tr>\n",
       "      <th>1393569</th>\n",
       "      <td>10208623</td>\n",
       "      <td>2017-01-02</td>\n",
       "      <td>f</td>\n",
       "      <td>NaN</td>\n",
       "    </tr>\n",
       "  </tbody>\n",
       "</table>\n",
       "<p>1393570 rows × 4 columns</p>\n",
       "</div>"
      ],
      "text/plain": [
       "         listing_id        date available  price\n",
       "0            241032  2016-01-04         t   85.0\n",
       "1            241032  2016-01-05         t   85.0\n",
       "2            241032  2016-01-06         f    NaN\n",
       "3            241032  2016-01-07         f    NaN\n",
       "4            241032  2016-01-08         f    NaN\n",
       "...             ...         ...       ...    ...\n",
       "1393565    10208623  2016-12-29         f    NaN\n",
       "1393566    10208623  2016-12-30         f    NaN\n",
       "1393567    10208623  2016-12-31         f    NaN\n",
       "1393568    10208623  2017-01-01         f    NaN\n",
       "1393569    10208623  2017-01-02         f    NaN\n",
       "\n",
       "[1393570 rows x 4 columns]"
      ]
     },
     "execution_count": 7,
     "metadata": {},
     "output_type": "execute_result"
    }
   ],
   "source": [
    "handle_price(AirBNB_Calander)\n",
    "AirBNB_Calander['price'] = pd.to_numeric(AirBNB_Calander['price'], downcast='integer')\n",
    "AirBNB_Calander\n"
   ]
  },
  {
   "cell_type": "markdown",
   "metadata": {
    "papermill": {
     "duration": 0.01153,
     "end_time": "2023-06-04T16:28:58.982073",
     "exception": false,
     "start_time": "2023-06-04T16:28:58.970543",
     "status": "completed"
    },
    "tags": []
   },
   "source": [
    "2.6 Changing the values for avaliabile column"
   ]
  },
  {
   "cell_type": "code",
   "execution_count": 8,
   "metadata": {
    "execution": {
     "iopub.execute_input": "2023-06-04T16:28:59.007293Z",
     "iopub.status.busy": "2023-06-04T16:28:59.006828Z",
     "iopub.status.idle": "2023-06-04T16:28:59.981872Z",
     "shell.execute_reply": "2023-06-04T16:28:59.980726Z"
    },
    "papermill": {
     "duration": 0.991439,
     "end_time": "2023-06-04T16:28:59.984995",
     "exception": false,
     "start_time": "2023-06-04T16:28:58.993556",
     "status": "completed"
    },
    "tags": []
   },
   "outputs": [],
   "source": [
    "AirBNB_Calander['available'].replace({'t':1,'f':0},inplace=True)"
   ]
  },
  {
   "cell_type": "markdown",
   "metadata": {
    "papermill": {
     "duration": 0.011145,
     "end_time": "2023-06-04T16:29:00.007935",
     "exception": false,
     "start_time": "2023-06-04T16:28:59.996790",
     "status": "completed"
    },
    "tags": []
   },
   "source": [
    "2.7 Grouping the data to see which month has the highest Price between listings."
   ]
  },
  {
   "cell_type": "code",
   "execution_count": 9,
   "metadata": {
    "execution": {
     "iopub.execute_input": "2023-06-04T16:29:00.034339Z",
     "iopub.status.busy": "2023-06-04T16:29:00.033870Z",
     "iopub.status.idle": "2023-06-04T16:29:00.722392Z",
     "shell.execute_reply": "2023-06-04T16:29:00.721070Z"
    },
    "papermill": {
     "duration": 0.705889,
     "end_time": "2023-06-04T16:29:00.725898",
     "exception": false,
     "start_time": "2023-06-04T16:29:00.020009",
     "status": "completed"
    },
    "tags": []
   },
   "outputs": [
    {
     "data": {
      "text/html": [
       "<div>\n",
       "<style scoped>\n",
       "    .dataframe tbody tr th:only-of-type {\n",
       "        vertical-align: middle;\n",
       "    }\n",
       "\n",
       "    .dataframe tbody tr th {\n",
       "        vertical-align: top;\n",
       "    }\n",
       "\n",
       "    .dataframe thead th {\n",
       "        text-align: right;\n",
       "    }\n",
       "</style>\n",
       "<table border=\"1\" class=\"dataframe\">\n",
       "  <thead>\n",
       "    <tr style=\"text-align: right;\">\n",
       "      <th></th>\n",
       "      <th>avg_Monthly_Price</th>\n",
       "      <th>Aval_Month</th>\n",
       "    </tr>\n",
       "    <tr>\n",
       "      <th>Month</th>\n",
       "      <th></th>\n",
       "      <th></th>\n",
       "    </tr>\n",
       "  </thead>\n",
       "  <tbody>\n",
       "    <tr>\n",
       "      <th>12</th>\n",
       "      <td>137.251835</td>\n",
       "      <td>0.735573</td>\n",
       "    </tr>\n",
       "    <tr>\n",
       "      <th>11</th>\n",
       "      <td>135.688738</td>\n",
       "      <td>0.713986</td>\n",
       "    </tr>\n",
       "    <tr>\n",
       "      <th>3</th>\n",
       "      <td>128.644488</td>\n",
       "      <td>0.709187</td>\n",
       "    </tr>\n",
       "    <tr>\n",
       "      <th>10</th>\n",
       "      <td>137.031939</td>\n",
       "      <td>0.696514</td>\n",
       "    </tr>\n",
       "    <tr>\n",
       "      <th>5</th>\n",
       "      <td>139.538183</td>\n",
       "      <td>0.675670</td>\n",
       "    </tr>\n",
       "    <tr>\n",
       "      <th>9</th>\n",
       "      <td>143.255949</td>\n",
       "      <td>0.674402</td>\n",
       "    </tr>\n",
       "    <tr>\n",
       "      <th>6</th>\n",
       "      <td>147.473137</td>\n",
       "      <td>0.674384</td>\n",
       "    </tr>\n",
       "    <tr>\n",
       "      <th>4</th>\n",
       "      <td>135.097005</td>\n",
       "      <td>0.663847</td>\n",
       "    </tr>\n",
       "    <tr>\n",
       "      <th>2</th>\n",
       "      <td>124.293927</td>\n",
       "      <td>0.662208</td>\n",
       "    </tr>\n",
       "    <tr>\n",
       "      <th>8</th>\n",
       "      <td>150.656594</td>\n",
       "      <td>0.645051</td>\n",
       "    </tr>\n",
       "    <tr>\n",
       "      <th>7</th>\n",
       "      <td>152.094150</td>\n",
       "      <td>0.627097</td>\n",
       "    </tr>\n",
       "    <tr>\n",
       "      <th>1</th>\n",
       "      <td>122.912176</td>\n",
       "      <td>0.566937</td>\n",
       "    </tr>\n",
       "  </tbody>\n",
       "</table>\n",
       "</div>"
      ],
      "text/plain": [
       "       avg_Monthly_Price  Aval_Month\n",
       "Month                               \n",
       "12            137.251835    0.735573\n",
       "11            135.688738    0.713986\n",
       "3             128.644488    0.709187\n",
       "10            137.031939    0.696514\n",
       "5             139.538183    0.675670\n",
       "9             143.255949    0.674402\n",
       "6             147.473137    0.674384\n",
       "4             135.097005    0.663847\n",
       "2             124.293927    0.662208\n",
       "8             150.656594    0.645051\n",
       "7             152.094150    0.627097\n",
       "1             122.912176    0.566937"
      ]
     },
     "execution_count": 9,
     "metadata": {},
     "output_type": "execute_result"
    }
   ],
   "source": [
    "AirBNB_Calander['Month'] =  pd.DatetimeIndex(AirBNB_Calander['date']).month\n",
    "\n",
    "Grouped_Month = AirBNB_Calander.groupby(\"Month\").agg(\n",
    "    \n",
    "    avg_Monthly_Price = (\"price\", \"mean\"),\n",
    "    Aval_Month = (\"available\", \"mean\")).sort_values(by=\"Aval_Month\", ascending = False)\n",
    "\n",
    "Grouped_Month"
   ]
  },
  {
   "cell_type": "markdown",
   "metadata": {
    "papermill": {
     "duration": 0.011765,
     "end_time": "2023-06-04T16:29:00.749833",
     "exception": false,
     "start_time": "2023-06-04T16:29:00.738068",
     "status": "completed"
    },
    "tags": []
   },
   "source": [
    "from the table above it shows that the most Avaliable months are December,November, and March."
   ]
  },
  {
   "cell_type": "code",
   "execution_count": 10,
   "metadata": {
    "execution": {
     "iopub.execute_input": "2023-06-04T16:29:00.777572Z",
     "iopub.status.busy": "2023-06-04T16:29:00.776314Z",
     "iopub.status.idle": "2023-06-04T16:29:01.290233Z",
     "shell.execute_reply": "2023-06-04T16:29:01.288804Z"
    },
    "papermill": {
     "duration": 0.531169,
     "end_time": "2023-06-04T16:29:01.293223",
     "exception": false,
     "start_time": "2023-06-04T16:29:00.762054",
     "status": "completed"
    },
    "tags": []
   },
   "outputs": [
    {
     "data": {
      "text/plain": [
       "<Axes: ylabel='Month'>"
      ]
     },
     "execution_count": 10,
     "metadata": {},
     "output_type": "execute_result"
    },
    {
     "data": {
      "image/png": "[encoded data removed]",
      "text/plain": [
       "<Figure size 1100x900 with 1 Axes>"
      ]
     },
     "metadata": {},
     "output_type": "display_data"
    }
   ],
   "source": [
    "AirBNB_Calander.groupby('Month')['price'].mean().sort_values(ascending=True).plot(kind = \"barh\",figsize=(11, 9))"
   ]
  },
  {
   "cell_type": "markdown",
   "metadata": {
    "papermill": {
     "duration": 0.012111,
     "end_time": "2023-06-04T16:29:01.317965",
     "exception": false,
     "start_time": "2023-06-04T16:29:01.305854",
     "status": "completed"
    },
    "tags": []
   },
   "source": [
    "We can conclude from the Above Bar Plot, that in the Summer has the highest Prices (June,July,August),and during the first three months of the year we can see the prices go down (January,Feburary,March)."
   ]
  },
  {
   "cell_type": "code",
   "execution_count": 11,
   "metadata": {
    "execution": {
     "iopub.execute_input": "2023-06-04T16:29:01.345696Z",
     "iopub.status.busy": "2023-06-04T16:29:01.345229Z",
     "iopub.status.idle": "2023-06-04T16:29:02.608451Z",
     "shell.execute_reply": "2023-06-04T16:29:02.607185Z"
    },
    "papermill": {
     "duration": 1.280997,
     "end_time": "2023-06-04T16:29:02.611362",
     "exception": false,
     "start_time": "2023-06-04T16:29:01.330365",
     "status": "completed"
    },
    "tags": []
   },
   "outputs": [
    {
     "data": {
      "text/html": [
       "<div>\n",
       "<style scoped>\n",
       "    .dataframe tbody tr th:only-of-type {\n",
       "        vertical-align: middle;\n",
       "    }\n",
       "\n",
       "    .dataframe tbody tr th {\n",
       "        vertical-align: top;\n",
       "    }\n",
       "\n",
       "    .dataframe thead th {\n",
       "        text-align: right;\n",
       "    }\n",
       "</style>\n",
       "<table border=\"1\" class=\"dataframe\">\n",
       "  <thead>\n",
       "    <tr style=\"text-align: right;\">\n",
       "      <th></th>\n",
       "      <th>avg_DayName_Price</th>\n",
       "      <th>Aval_Day</th>\n",
       "    </tr>\n",
       "    <tr>\n",
       "      <th>Day</th>\n",
       "      <th></th>\n",
       "      <th></th>\n",
       "    </tr>\n",
       "  </thead>\n",
       "  <tbody>\n",
       "    <tr>\n",
       "      <th>Saturday</th>\n",
       "      <td>143.202136</td>\n",
       "      <td>0.667758</td>\n",
       "    </tr>\n",
       "    <tr>\n",
       "      <th>Friday</th>\n",
       "      <td>143.036294</td>\n",
       "      <td>0.668911</td>\n",
       "    </tr>\n",
       "    <tr>\n",
       "      <th>Thursday</th>\n",
       "      <td>136.476032</td>\n",
       "      <td>0.669743</td>\n",
       "    </tr>\n",
       "    <tr>\n",
       "      <th>Sunday</th>\n",
       "      <td>136.459941</td>\n",
       "      <td>0.673001</td>\n",
       "    </tr>\n",
       "    <tr>\n",
       "      <th>Monday</th>\n",
       "      <td>135.676414</td>\n",
       "      <td>0.671101</td>\n",
       "    </tr>\n",
       "    <tr>\n",
       "      <th>Wednesday</th>\n",
       "      <td>135.447880</td>\n",
       "      <td>0.671793</td>\n",
       "    </tr>\n",
       "    <tr>\n",
       "      <th>Tuesday</th>\n",
       "      <td>135.408764</td>\n",
       "      <td>0.671954</td>\n",
       "    </tr>\n",
       "  </tbody>\n",
       "</table>\n",
       "</div>"
      ],
      "text/plain": [
       "           avg_DayName_Price  Aval_Day\n",
       "Day                                   \n",
       "Saturday          143.202136  0.667758\n",
       "Friday            143.036294  0.668911\n",
       "Thursday          136.476032  0.669743\n",
       "Sunday            136.459941  0.673001\n",
       "Monday            135.676414  0.671101\n",
       "Wednesday         135.447880  0.671793\n",
       "Tuesday           135.408764  0.671954"
      ]
     },
     "execution_count": 11,
     "metadata": {},
     "output_type": "execute_result"
    }
   ],
   "source": [
    "AirBNB_Calander['Day'] =  pd.DatetimeIndex(AirBNB_Calander['date']).day_name()\n",
    "\n",
    "\n",
    "Grouped_Day = AirBNB_Calander.groupby(\"Day\").agg(\n",
    "    \n",
    "    avg_DayName_Price = (\"price\", \"mean\"),\n",
    "    Aval_Day= (\"available\", \"mean\")).sort_values(by=\"avg_DayName_Price\", ascending = False)\n",
    "\n",
    "Grouped_Day"
   ]
  },
  {
   "cell_type": "code",
   "execution_count": 12,
   "metadata": {
    "execution": {
     "iopub.execute_input": "2023-06-04T16:29:02.641236Z",
     "iopub.status.busy": "2023-06-04T16:29:02.639796Z",
     "iopub.status.idle": "2023-06-04T16:29:03.134790Z",
     "shell.execute_reply": "2023-06-04T16:29:03.133300Z"
    },
    "papermill": {
     "duration": 0.512679,
     "end_time": "2023-06-04T16:29:03.138062",
     "exception": false,
     "start_time": "2023-06-04T16:29:02.625383",
     "status": "completed"
    },
    "tags": []
   },
   "outputs": [
    {
     "data": {
      "text/plain": [
       "<Axes: ylabel='Day'>"
      ]
     },
     "execution_count": 12,
     "metadata": {},
     "output_type": "execute_result"
    },
    {
     "data": {
      "image/png": "[encoded data removed]",
      "text/plain": [
       "<Figure size 1100x900 with 1 Axes>"
      ]
     },
     "metadata": {},
     "output_type": "display_data"
    }
   ],
   "source": [
    "AirBNB_Calander.groupby('Day')['price'].mean().sort_values(ascending=True).plot(kind = \"barh\",figsize=(11, 9))"
   ]
  },
  {
   "cell_type": "markdown",
   "metadata": {
    "papermill": {
     "duration": 0.013028,
     "end_time": "2023-06-04T16:29:03.164429",
     "exception": false,
     "start_time": "2023-06-04T16:29:03.151401",
     "status": "completed"
    },
    "tags": []
   },
   "source": [
    "it appears that in holidays Friday and Saturday are the busiest during the year."
   ]
  },
  {
   "cell_type": "code",
   "execution_count": 13,
   "metadata": {
    "execution": {
     "iopub.execute_input": "2023-06-04T16:29:03.196803Z",
     "iopub.status.busy": "2023-06-04T16:29:03.195309Z",
     "iopub.status.idle": "2023-06-04T16:29:03.406601Z",
     "shell.execute_reply": "2023-06-04T16:29:03.405437Z"
    },
    "papermill": {
     "duration": 0.23025,
     "end_time": "2023-06-04T16:29:03.409704",
     "exception": false,
     "start_time": "2023-06-04T16:29:03.179454",
     "status": "completed"
    },
    "tags": []
   },
   "outputs": [],
   "source": [
    "AirBNB_Listings['price'] = AirBNB_Listings['price'].str.extract(r'(\\d+(?:\\.\\d+))')\n",
    "\n",
    "AirBNB_Listings['price'] = pd.to_numeric(AirBNB_Listings['price'], downcast='integer')"
   ]
  },
  {
   "cell_type": "code",
   "execution_count": 14,
   "metadata": {
    "execution": {
     "iopub.execute_input": "2023-06-04T16:29:03.440644Z",
     "iopub.status.busy": "2023-06-04T16:29:03.440087Z",
     "iopub.status.idle": "2023-06-04T16:29:03.468957Z",
     "shell.execute_reply": "2023-06-04T16:29:03.467764Z"
    },
    "papermill": {
     "duration": 0.04743,
     "end_time": "2023-06-04T16:29:03.471868",
     "exception": false,
     "start_time": "2023-06-04T16:29:03.424438",
     "status": "completed"
    },
    "tags": []
   },
   "outputs": [
    {
     "data": {
      "text/html": [
       "<div>\n",
       "<style scoped>\n",
       "    .dataframe tbody tr th:only-of-type {\n",
       "        vertical-align: middle;\n",
       "    }\n",
       "\n",
       "    .dataframe tbody tr th {\n",
       "        vertical-align: top;\n",
       "    }\n",
       "\n",
       "    .dataframe thead th {\n",
       "        text-align: right;\n",
       "    }\n",
       "</style>\n",
       "<table border=\"1\" class=\"dataframe\">\n",
       "  <thead>\n",
       "    <tr style=\"text-align: right;\">\n",
       "      <th></th>\n",
       "      <th>avg_Price</th>\n",
       "      <th>Avg_Ratings</th>\n",
       "      <th>listings_Counts</th>\n",
       "    </tr>\n",
       "    <tr>\n",
       "      <th>neighbourhood_group_cleansed</th>\n",
       "      <th></th>\n",
       "      <th></th>\n",
       "      <th></th>\n",
       "    </tr>\n",
       "  </thead>\n",
       "  <tbody>\n",
       "    <tr>\n",
       "      <th>Magnolia</th>\n",
       "      <td>177.672131</td>\n",
       "      <td>1.540851</td>\n",
       "      <td>107</td>\n",
       "    </tr>\n",
       "    <tr>\n",
       "      <th>Queen Anne</th>\n",
       "      <td>157.223729</td>\n",
       "      <td>2.147460</td>\n",
       "      <td>492</td>\n",
       "    </tr>\n",
       "    <tr>\n",
       "      <th>Downtown</th>\n",
       "      <td>154.405660</td>\n",
       "      <td>2.345764</td>\n",
       "      <td>1989</td>\n",
       "    </tr>\n",
       "    <tr>\n",
       "      <th>West Seattle</th>\n",
       "      <td>141.359606</td>\n",
       "      <td>1.860366</td>\n",
       "      <td>340</td>\n",
       "    </tr>\n",
       "    <tr>\n",
       "      <th>Cascade</th>\n",
       "      <td>140.101124</td>\n",
       "      <td>1.805077</td>\n",
       "      <td>125</td>\n",
       "    </tr>\n",
       "    <tr>\n",
       "      <th>Capitol Hill</th>\n",
       "      <td>130.592593</td>\n",
       "      <td>2.010974</td>\n",
       "      <td>2069</td>\n",
       "    </tr>\n",
       "    <tr>\n",
       "      <th>Central Area</th>\n",
       "      <td>128.338753</td>\n",
       "      <td>2.197188</td>\n",
       "      <td>670</td>\n",
       "    </tr>\n",
       "    <tr>\n",
       "      <th>Ballard</th>\n",
       "      <td>124.682609</td>\n",
       "      <td>2.570725</td>\n",
       "      <td>381</td>\n",
       "    </tr>\n",
       "    <tr>\n",
       "      <th>Other neighborhoods</th>\n",
       "      <td>118.709068</td>\n",
       "      <td>1.817139</td>\n",
       "      <td>2268</td>\n",
       "    </tr>\n",
       "    <tr>\n",
       "      <th>Interbay</th>\n",
       "      <td>109.727273</td>\n",
       "      <td>2.022222</td>\n",
       "      <td>21</td>\n",
       "    </tr>\n",
       "    <tr>\n",
       "      <th>Seward Park</th>\n",
       "      <td>108.477273</td>\n",
       "      <td>2.580513</td>\n",
       "      <td>131</td>\n",
       "    </tr>\n",
       "    <tr>\n",
       "      <th>Beacon Hill</th>\n",
       "      <td>94.669492</td>\n",
       "      <td>2.432233</td>\n",
       "      <td>321</td>\n",
       "    </tr>\n",
       "    <tr>\n",
       "      <th>University District</th>\n",
       "      <td>93.639344</td>\n",
       "      <td>1.641429</td>\n",
       "      <td>1619</td>\n",
       "    </tr>\n",
       "    <tr>\n",
       "      <th>Lake City</th>\n",
       "      <td>92.671642</td>\n",
       "      <td>1.544821</td>\n",
       "      <td>104</td>\n",
       "    </tr>\n",
       "    <tr>\n",
       "      <th>Rainier Valley</th>\n",
       "      <td>91.899371</td>\n",
       "      <td>2.478881</td>\n",
       "      <td>372</td>\n",
       "    </tr>\n",
       "    <tr>\n",
       "      <th>Northgate</th>\n",
       "      <td>88.550000</td>\n",
       "      <td>1.612121</td>\n",
       "      <td>138</td>\n",
       "    </tr>\n",
       "    <tr>\n",
       "      <th>Delridge</th>\n",
       "      <td>83.278481</td>\n",
       "      <td>2.182308</td>\n",
       "      <td>102</td>\n",
       "    </tr>\n",
       "  </tbody>\n",
       "</table>\n",
       "</div>"
      ],
      "text/plain": [
       "                               avg_Price  Avg_Ratings  listings_Counts\n",
       "neighbourhood_group_cleansed                                          \n",
       "Magnolia                      177.672131     1.540851              107\n",
       "Queen Anne                    157.223729     2.147460              492\n",
       "Downtown                      154.405660     2.345764             1989\n",
       "West Seattle                  141.359606     1.860366              340\n",
       "Cascade                       140.101124     1.805077              125\n",
       "Capitol Hill                  130.592593     2.010974             2069\n",
       "Central Area                  128.338753     2.197188              670\n",
       "Ballard                       124.682609     2.570725              381\n",
       "Other neighborhoods           118.709068     1.817139             2268\n",
       "Interbay                      109.727273     2.022222               21\n",
       "Seward Park                   108.477273     2.580513              131\n",
       "Beacon Hill                    94.669492     2.432233              321\n",
       "University District            93.639344     1.641429             1619\n",
       "Lake City                      92.671642     1.544821              104\n",
       "Rainier Valley                 91.899371     2.478881              372\n",
       "Northgate                      88.550000     1.612121              138\n",
       "Delridge                       83.278481     2.182308              102"
      ]
     },
     "execution_count": 14,
     "metadata": {},
     "output_type": "execute_result"
    }
   ],
   "source": [
    "Grouped_neighbourhood = AirBNB_Listings.groupby(\"neighbourhood_group_cleansed\").agg(\n",
    "    \n",
    "    avg_Price = (\"price\", \"mean\"),\n",
    "    Avg_Ratings = (\"reviews_per_month\",\"mean\"),\n",
    "    listings_Counts = (\"calculated_host_listings_count\", \"sum\")).sort_values(by=\"avg_Price\", ascending = False)\n",
    "\n",
    "Grouped_neighbourhood"
   ]
  },
  {
   "cell_type": "code",
   "execution_count": 15,
   "metadata": {
    "execution": {
     "iopub.execute_input": "2023-06-04T16:29:03.502012Z",
     "iopub.status.busy": "2023-06-04T16:29:03.501382Z",
     "iopub.status.idle": "2023-06-04T16:29:03.970274Z",
     "shell.execute_reply": "2023-06-04T16:29:03.968902Z"
    },
    "papermill": {
     "duration": 0.487859,
     "end_time": "2023-06-04T16:29:03.973523",
     "exception": false,
     "start_time": "2023-06-04T16:29:03.485664",
     "status": "completed"
    },
    "tags": []
   },
   "outputs": [
    {
     "data": {
      "text/plain": [
       "<Axes: ylabel='neighbourhood_group_cleansed'>"
      ]
     },
     "execution_count": 15,
     "metadata": {},
     "output_type": "execute_result"
    },
    {
     "data": {
      "image/png": "[encoded data removed]",
      "text/plain": [
       "<Figure size 1100x900 with 1 Axes>"
      ]
     },
     "metadata": {},
     "output_type": "display_data"
    }
   ],
   "source": [
    "AirBNB_Listings.groupby('neighbourhood_group_cleansed')['price'].mean().sort_values(ascending=True).plot(kind = \"barh\",figsize=(11, 9))"
   ]
  },
  {
   "cell_type": "markdown",
   "metadata": {
    "papermill": {
     "duration": 0.014306,
     "end_time": "2023-06-04T16:29:04.003250",
     "exception": false,
     "start_time": "2023-06-04T16:29:03.988944",
     "status": "completed"
    },
    "tags": []
   },
   "source": [
    "We can see above that the most Expensive neighbourhoods are (Magnolia, Queen Anne, Downtown).\n",
    "As for the Best Rated neighbourhoods Are (Seward Park, Ballard, and Rainier Valley).\n",
    "\n",
    "I wonder if there's a correlation between the Prices and the reviews ?? lets see below"
   ]
  },
  {
   "cell_type": "code",
   "execution_count": 16,
   "metadata": {
    "execution": {
     "iopub.execute_input": "2023-06-04T16:29:04.035031Z",
     "iopub.status.busy": "2023-06-04T16:29:04.034507Z",
     "iopub.status.idle": "2023-06-04T16:29:04.047761Z",
     "shell.execute_reply": "2023-06-04T16:29:04.045961Z"
    },
    "papermill": {
     "duration": 0.032531,
     "end_time": "2023-06-04T16:29:04.050551",
     "exception": false,
     "start_time": "2023-06-04T16:29:04.018020",
     "status": "completed"
    },
    "tags": []
   },
   "outputs": [
    {
     "name": "stdout",
     "output_type": "stream",
     "text": [
      "[[1.0 -0.21793280268828014]\n",
      " [-0.21793280268828014 1.0]]\n"
     ]
    }
   ],
   "source": [
    "import numpy.ma as ma\n",
    "\n",
    "x = AirBNB_Listings['price']\n",
    "y = AirBNB_Listings['reviews_per_month']\n",
    "\n",
    "print(ma.corrcoef(ma.masked_invalid(x), ma.masked_invalid(y)))"
   ]
  },
  {
   "cell_type": "markdown",
   "metadata": {
    "papermill": {
     "duration": 0.014476,
     "end_time": "2023-06-04T16:29:04.080082",
     "exception": false,
     "start_time": "2023-06-04T16:29:04.065606",
     "status": "completed"
    },
    "tags": []
   },
   "source": [
    "Well it appears that there is a small negative correlation between Prices and Reviews for all the listings by -0.21."
   ]
  },
  {
   "cell_type": "markdown",
   "metadata": {
    "papermill": {
     "duration": 0.014632,
     "end_time": "2023-06-04T16:29:04.110415",
     "exception": false,
     "start_time": "2023-06-04T16:29:04.095783",
     "status": "completed"
    },
    "tags": []
   },
   "source": [
    "## Conclusion"
   ]
  },
  {
   "cell_type": "markdown",
   "metadata": {
    "papermill": {
     "duration": 0.014509,
     "end_time": "2023-06-04T16:29:04.140063",
     "exception": false,
     "start_time": "2023-06-04T16:29:04.125554",
     "status": "completed"
    },
    "tags": []
   },
   "source": [
    "The most expensive time of the year would be in the summer while in the first three months (Jan,Feb,Mar) would be an excellent time for a budget Tourism in Seattle in terms of Prices.\n",
    "\n",
    "As for the best neighbourhood to rent i would suggest immediatley the Rainer Valley, the reason why is that the plots above showed us that this neighbourhood has high average score (2.58) with an avg price (91.88) compared to the other neighbourhoods it would be a perfect spot to rent in."
   ]
  }
 ],
 "metadata": {
  "kernelspec": {
   "display_name": "Python 3",
   "language": "python",
   "name": "python3"
  },
  "language_info": {
   "codemirror_mode": {
    "name": "ipython",
    "version": 3
   },
   "file_extension": ".py",
   "mimetype": "text/x-python",
   "name": "python",
   "nbconvert_exporter": "python",
   "pygments_lexer": "ipython3",
   "version": "3.7.3"
  },
  "papermill": {
   "default_parameters": {},
   "duration": 26.08138,
   "end_time": "2023-06-04T16:29:05.482838",
   "environment_variables": {},
   "exception": null,
   "input_path": "__notebook__.ipynb",
   "output_path": "__notebook__.ipynb",
   "parameters": {},
   "start_time": "2023-06-04T16:28:39.401458",
   "version": "2.4.0"
  }
 },
 "nbformat": 4,
 "nbformat_minor": 5
}
