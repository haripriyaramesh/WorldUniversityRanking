{
 "cells": [
  {
   "cell_type": "markdown",
   "metadata": {
    "papermill": {
     "duration": 0.010768,
     "end_time": "2023-06-04T16:28:54.299325",
     "exception": false,
     "start_time": "2023-06-04T16:28:54.288557",
     "status": "completed"
    },
    "tags": []
   },
   "source": [
    "# Introduction\n",
    "\n",
    "This project is an assignment component of the Data Scientist Nanodegree Program offered by Udacity. Within this project, I will employ the CRISP-DM methodology, a structured six-step approach, to analyze the QS World University Rankings spanning from 2017 to 2022.\n"
   ]
  },
  {
   "cell_type": "markdown",
   "metadata": {
    "papermill": {
     "duration": 0.009159,
     "end_time": "2023-06-04T16:28:54.318544",
     "exception": false,
     "start_time": "2023-06-04T16:28:54.309385",
     "status": "completed"
    },
    "tags": []
   },
   "source": [
    "Step 1: Business Understanding\n",
    "\n",
    "I attempt to address four key questions that often intrigue students, researchers, and education enthusiasts when it comes to higher education. \n",
    "\n",
    "1. Which Country is Preferred by International Students?\n",
    "2. What Makes a Best Ranked University?\n",
    "3. What Are the Primary Contributors of High Research Output?\n",
    "4. Are Public Universities Better Than Private?"
   ]
  },
  {
   "cell_type": "markdown",
   "metadata": {
    "papermill": {
     "duration": 0.009156,
     "end_time": "2023-06-04T16:28:54.337390",
     "exception": false,
     "start_time": "2023-06-04T16:28:54.328234",
     "status": "completed"
    },
    "tags": []
   },
   "source": [
    "Step 2: Data Understanding and Exploration\n"
   ]
  },
  {
   "cell_type": "code",
   "execution_count": 958,
   "metadata": {
    "execution": {
     "iopub.execute_input": "2023-06-04T16:28:54.380789Z",
     "iopub.status.busy": "2023-06-04T16:28:54.379568Z",
     "iopub.status.idle": "2023-06-04T16:28:54.392151Z",
     "shell.execute_reply": "2023-06-04T16:28:54.391054Z"
    },
    "papermill": {
     "duration": 0.026848,
     "end_time": "2023-06-04T16:28:54.395068",
     "exception": false,
     "start_time": "2023-06-04T16:28:54.368220",
     "status": "completed"
    },
    "tags": []
   },
   "outputs": [],
   "source": [
    "#importing libraries for EDA \n",
    "\n",
    "import numpy as np\n",
    "import pandas as pd\n",
    "import seaborn as sns\n",
    "import matplotlib.pyplot as plt"
   ]
  },
  {
   "cell_type": "code",
   "execution_count": 959,
   "metadata": {
    "execution": {
     "iopub.execute_input": "2023-06-04T16:28:54.437038Z",
     "iopub.status.busy": "2023-06-04T16:28:54.436161Z",
     "iopub.status.idle": "2023-06-04T16:28:57.286937Z",
     "shell.execute_reply": "2023-06-04T16:28:57.285591Z"
    },
    "papermill": {
     "duration": 2.866117,
     "end_time": "2023-06-04T16:28:57.290433",
     "exception": false,
     "start_time": "2023-06-04T16:28:54.424316",
     "status": "completed"
    },
    "tags": []
   },
   "outputs": [],
   "source": [
    "#reading the dataset into pandas dataframe\n",
    "\n",
    "uni_rankings = pd.read_csv(\"qs-world-university-rankings-2017-to-2022-V2.csv\")\n"
   ]
  },
  {
   "cell_type": "code",
   "execution_count": 960,
   "metadata": {
    "execution": {
     "iopub.execute_input": "2023-06-04T16:28:57.333423Z",
     "iopub.status.busy": "2023-06-04T16:28:57.331861Z",
     "iopub.status.idle": "2023-06-04T16:28:57.407907Z",
     "shell.execute_reply": "2023-06-04T16:28:57.406606Z"
    },
    "papermill": {
     "duration": 0.092928,
     "end_time": "2023-06-04T16:28:57.413137",
     "exception": false,
     "start_time": "2023-06-04T16:28:57.320209",
     "status": "completed"
    },
    "tags": []
   },
   "outputs": [
    {
     "data": {
      "text/html": [
       "<div>\n",
       "<style scoped>\n",
       "    .dataframe tbody tr th:only-of-type {\n",
       "        vertical-align: middle;\n",
       "    }\n",
       "\n",
       "    .dataframe tbody tr th {\n",
       "        vertical-align: top;\n",
       "    }\n",
       "\n",
       "    .dataframe thead th {\n",
       "        text-align: right;\n",
       "    }\n",
       "</style>\n",
       "<table border=\"1\" class=\"dataframe\">\n",
       "  <thead>\n",
       "    <tr style=\"text-align: right;\">\n",
       "      <th></th>\n",
       "      <th>university</th>\n",
       "      <th>year</th>\n",
       "      <th>rank_display</th>\n",
       "      <th>score</th>\n",
       "      <th>link</th>\n",
       "      <th>country</th>\n",
       "      <th>city</th>\n",
       "      <th>region</th>\n",
       "      <th>logo</th>\n",
       "      <th>type</th>\n",
       "      <th>research_output</th>\n",
       "      <th>student_faculty_ratio</th>\n",
       "      <th>international_students</th>\n",
       "      <th>size</th>\n",
       "      <th>faculty_count</th>\n",
       "    </tr>\n",
       "  </thead>\n",
       "  <tbody>\n",
       "    <tr>\n",
       "      <th>0</th>\n",
       "      <td>Massachusetts Institute of Technology (MIT)</td>\n",
       "      <td>2017</td>\n",
       "      <td>1</td>\n",
       "      <td>100.0</td>\n",
       "      <td>https://www.topuniversities.com/universities/m...</td>\n",
       "      <td>United States</td>\n",
       "      <td>Cambridge</td>\n",
       "      <td>North America</td>\n",
       "      <td>https://www.topuniversities.com/sites/default/...</td>\n",
       "      <td>Private</td>\n",
       "      <td>Very High</td>\n",
       "      <td>4.0</td>\n",
       "      <td>3,730</td>\n",
       "      <td>M</td>\n",
       "      <td>3,065</td>\n",
       "    </tr>\n",
       "    <tr>\n",
       "      <th>1</th>\n",
       "      <td>Stanford University</td>\n",
       "      <td>2017</td>\n",
       "      <td>2</td>\n",
       "      <td>98.7</td>\n",
       "      <td>https://www.topuniversities.com/universities/s...</td>\n",
       "      <td>United States</td>\n",
       "      <td>Stanford</td>\n",
       "      <td>North America</td>\n",
       "      <td>https://www.topuniversities.com/sites/default/...</td>\n",
       "      <td>Private</td>\n",
       "      <td>Very High</td>\n",
       "      <td>3.0</td>\n",
       "      <td>3,879</td>\n",
       "      <td>L</td>\n",
       "      <td>4,725</td>\n",
       "    </tr>\n",
       "    <tr>\n",
       "      <th>2</th>\n",
       "      <td>Harvard University</td>\n",
       "      <td>2017</td>\n",
       "      <td>3</td>\n",
       "      <td>98.3</td>\n",
       "      <td>https://www.topuniversities.com/universities/h...</td>\n",
       "      <td>United States</td>\n",
       "      <td>Cambridge</td>\n",
       "      <td>North America</td>\n",
       "      <td>https://www.topuniversities.com/sites/default/...</td>\n",
       "      <td>Private</td>\n",
       "      <td>Very High</td>\n",
       "      <td>5.0</td>\n",
       "      <td>5,877</td>\n",
       "      <td>L</td>\n",
       "      <td>4,646</td>\n",
       "    </tr>\n",
       "    <tr>\n",
       "      <th>3</th>\n",
       "      <td>University of Cambridge</td>\n",
       "      <td>2017</td>\n",
       "      <td>4</td>\n",
       "      <td>97.2</td>\n",
       "      <td>https://www.topuniversities.com/universities/u...</td>\n",
       "      <td>United Kingdom</td>\n",
       "      <td>Cambridge</td>\n",
       "      <td>Europe</td>\n",
       "      <td>https://www.topuniversities.com/sites/default/...</td>\n",
       "      <td>Public</td>\n",
       "      <td>Very high</td>\n",
       "      <td>4.0</td>\n",
       "      <td>7,925</td>\n",
       "      <td>L</td>\n",
       "      <td>5,800</td>\n",
       "    </tr>\n",
       "    <tr>\n",
       "      <th>4</th>\n",
       "      <td>California Institute of Technology (Caltech)</td>\n",
       "      <td>2017</td>\n",
       "      <td>5</td>\n",
       "      <td>96.9</td>\n",
       "      <td>https://www.topuniversities.com/universities/c...</td>\n",
       "      <td>United States</td>\n",
       "      <td>Pasadena</td>\n",
       "      <td>North America</td>\n",
       "      <td>https://www.topuniversities.com/sites/default/...</td>\n",
       "      <td>Private</td>\n",
       "      <td>Very High</td>\n",
       "      <td>2.0</td>\n",
       "      <td>692</td>\n",
       "      <td>S</td>\n",
       "      <td>968</td>\n",
       "    </tr>\n",
       "  </tbody>\n",
       "</table>\n",
       "</div>"
      ],
      "text/plain": [
       "                                     university  year rank_display  score  \\\n",
       "0  Massachusetts Institute of Technology (MIT)   2017            1  100.0   \n",
       "1                           Stanford University  2017            2   98.7   \n",
       "2                            Harvard University  2017            3   98.3   \n",
       "3                       University of Cambridge  2017            4   97.2   \n",
       "4  California Institute of Technology (Caltech)  2017            5   96.9   \n",
       "\n",
       "                                                link         country  \\\n",
       "0  https://www.topuniversities.com/universities/m...   United States   \n",
       "1  https://www.topuniversities.com/universities/s...   United States   \n",
       "2  https://www.topuniversities.com/universities/h...   United States   \n",
       "3  https://www.topuniversities.com/universities/u...  United Kingdom   \n",
       "4  https://www.topuniversities.com/universities/c...   United States   \n",
       "\n",
       "        city         region  \\\n",
       "0  Cambridge  North America   \n",
       "1   Stanford  North America   \n",
       "2  Cambridge  North America   \n",
       "3  Cambridge         Europe   \n",
       "4   Pasadena  North America   \n",
       "\n",
       "                                                logo     type research_output  \\\n",
       "0  https://www.topuniversities.com/sites/default/...  Private       Very High   \n",
       "1  https://www.topuniversities.com/sites/default/...  Private       Very High   \n",
       "2  https://www.topuniversities.com/sites/default/...  Private       Very High   \n",
       "3  https://www.topuniversities.com/sites/default/...   Public       Very high   \n",
       "4  https://www.topuniversities.com/sites/default/...  Private       Very High   \n",
       "\n",
       "   student_faculty_ratio international_students size faculty_count  \n",
       "0                    4.0                  3,730    M         3,065  \n",
       "1                    3.0                  3,879    L         4,725  \n",
       "2                    5.0                  5,877    L         4,646  \n",
       "3                    4.0                  7,925    L         5,800  \n",
       "4                    2.0                    692    S           968  "
      ]
     },
     "metadata": {},
     "output_type": "display_data"
    },
    {
     "name": "stdout",
     "output_type": "stream",
     "text": [
      "(6482, 15)\n"
     ]
    }
   ],
   "source": [
    "# Exploring the Variables \n",
    "\n",
    "display(uni_rankings.head())\n",
    "print(uni_rankings.shape)"
   ]
  },
  {
   "cell_type": "code",
   "execution_count": 961,
   "metadata": {
    "execution": {
     "iopub.execute_input": "2023-06-04T16:28:57.459171Z",
     "iopub.status.busy": "2023-06-04T16:28:57.458268Z",
     "iopub.status.idle": "2023-06-04T16:28:57.545637Z",
     "shell.execute_reply": "2023-06-04T16:28:57.543965Z"
    },
    "papermill": {
     "duration": 0.102873,
     "end_time": "2023-06-04T16:28:57.548622",
     "exception": false,
     "start_time": "2023-06-04T16:28:57.445749",
     "status": "completed"
    },
    "tags": []
   },
   "outputs": [
    {
     "name": "stdout",
     "output_type": "stream",
     "text": [
      "score                     0.564949\n",
      "city                      0.027461\n",
      "international_students    0.025301\n",
      "faculty_count             0.012033\n",
      "student_faculty_ratio     0.011571\n",
      "rank_display              0.010491\n",
      "type                      0.001851\n",
      "size                      0.000309\n",
      "research_output           0.000309\n",
      "logo                      0.000000\n",
      "region                    0.000000\n",
      "country                   0.000000\n",
      "link                      0.000000\n",
      "year                      0.000000\n",
      "university                0.000000\n",
      "dtype: float64\n"
     ]
    }
   ],
   "source": [
    "# Calculating percentage of NA values within Dataframe\n",
    "\n",
    "print(uni_rankings.isna().mean().sort_values(ascending=False).head(35))"
   ]
  },
  {
   "cell_type": "code",
   "execution_count": 962,
   "metadata": {},
   "outputs": [
    {
     "data": {
      "text/plain": [
       "year\n",
       "2017     933\n",
       "2018     977\n",
       "2019    1018\n",
       "2020    1069\n",
       "2021    1185\n",
       "2022    1300\n",
       "dtype: int64"
      ]
     },
     "execution_count": 962,
     "metadata": {},
     "output_type": "execute_result"
    }
   ],
   "source": [
    "# How many entries are present per year?\n",
    "\n",
    "entries_per_year = uni_rankings.groupby('year').apply(lambda x:x['country'].count())\n",
    "entries_per_year"
   ]
  },
  {
   "cell_type": "code",
   "execution_count": 963,
   "metadata": {},
   "outputs": [],
   "source": [
    "# Calculating the percentage of missing values - year wise\n",
    "\n",
    "missing_percentage_per_year = uni_rankings.groupby('year').apply(lambda x: (x.isna().sum() / len(x)) * 100)"
   ]
  },
  {
   "cell_type": "code",
   "execution_count": 964,
   "metadata": {},
   "outputs": [
    {
     "data": {
      "text/html": [
       "<div>\n",
       "<style scoped>\n",
       "    .dataframe tbody tr th:only-of-type {\n",
       "        vertical-align: middle;\n",
       "    }\n",
       "\n",
       "    .dataframe tbody tr th {\n",
       "        vertical-align: top;\n",
       "    }\n",
       "\n",
       "    .dataframe thead th {\n",
       "        text-align: right;\n",
       "    }\n",
       "</style>\n",
       "<table border=\"1\" class=\"dataframe\">\n",
       "  <thead>\n",
       "    <tr style=\"text-align: right;\">\n",
       "      <th></th>\n",
       "      <th>university</th>\n",
       "      <th>year</th>\n",
       "      <th>rank_display</th>\n",
       "      <th>score</th>\n",
       "      <th>link</th>\n",
       "      <th>country</th>\n",
       "      <th>city</th>\n",
       "      <th>region</th>\n",
       "      <th>logo</th>\n",
       "      <th>type</th>\n",
       "      <th>research_output</th>\n",
       "      <th>student_faculty_ratio</th>\n",
       "      <th>international_students</th>\n",
       "      <th>size</th>\n",
       "      <th>faculty_count</th>\n",
       "    </tr>\n",
       "    <tr>\n",
       "      <th>year</th>\n",
       "      <th></th>\n",
       "      <th></th>\n",
       "      <th></th>\n",
       "      <th></th>\n",
       "      <th></th>\n",
       "      <th></th>\n",
       "      <th></th>\n",
       "      <th></th>\n",
       "      <th></th>\n",
       "      <th></th>\n",
       "      <th></th>\n",
       "      <th></th>\n",
       "      <th></th>\n",
       "      <th></th>\n",
       "      <th></th>\n",
       "    </tr>\n",
       "  </thead>\n",
       "  <tbody>\n",
       "    <tr>\n",
       "      <th>2017</th>\n",
       "      <td>0.0</td>\n",
       "      <td>0.0</td>\n",
       "      <td>2.036442</td>\n",
       "      <td>56.698821</td>\n",
       "      <td>0.0</td>\n",
       "      <td>0.0</td>\n",
       "      <td>1.607717</td>\n",
       "      <td>0.0</td>\n",
       "      <td>0.0</td>\n",
       "      <td>0.000000</td>\n",
       "      <td>0.000000</td>\n",
       "      <td>1.393355</td>\n",
       "      <td>2.465166</td>\n",
       "      <td>0.000000</td>\n",
       "      <td>1.500536</td>\n",
       "    </tr>\n",
       "    <tr>\n",
       "      <th>2018</th>\n",
       "      <td>0.0</td>\n",
       "      <td>0.0</td>\n",
       "      <td>0.102354</td>\n",
       "      <td>58.751279</td>\n",
       "      <td>0.0</td>\n",
       "      <td>0.0</td>\n",
       "      <td>1.740020</td>\n",
       "      <td>0.0</td>\n",
       "      <td>0.0</td>\n",
       "      <td>0.204708</td>\n",
       "      <td>0.000000</td>\n",
       "      <td>1.330604</td>\n",
       "      <td>2.456499</td>\n",
       "      <td>0.000000</td>\n",
       "      <td>1.432958</td>\n",
       "    </tr>\n",
       "    <tr>\n",
       "      <th>2019</th>\n",
       "      <td>0.0</td>\n",
       "      <td>0.0</td>\n",
       "      <td>1.964637</td>\n",
       "      <td>50.392927</td>\n",
       "      <td>0.0</td>\n",
       "      <td>0.0</td>\n",
       "      <td>2.455796</td>\n",
       "      <td>0.0</td>\n",
       "      <td>0.0</td>\n",
       "      <td>0.196464</td>\n",
       "      <td>0.000000</td>\n",
       "      <td>1.375246</td>\n",
       "      <td>2.554028</td>\n",
       "      <td>0.000000</td>\n",
       "      <td>1.375246</td>\n",
       "    </tr>\n",
       "    <tr>\n",
       "      <th>2020</th>\n",
       "      <td>0.0</td>\n",
       "      <td>0.0</td>\n",
       "      <td>0.093545</td>\n",
       "      <td>53.133770</td>\n",
       "      <td>0.0</td>\n",
       "      <td>0.0</td>\n",
       "      <td>2.993452</td>\n",
       "      <td>0.0</td>\n",
       "      <td>0.0</td>\n",
       "      <td>0.374181</td>\n",
       "      <td>0.093545</td>\n",
       "      <td>1.496726</td>\n",
       "      <td>2.432180</td>\n",
       "      <td>0.093545</td>\n",
       "      <td>1.590271</td>\n",
       "    </tr>\n",
       "    <tr>\n",
       "      <th>2021</th>\n",
       "      <td>0.0</td>\n",
       "      <td>0.0</td>\n",
       "      <td>2.278481</td>\n",
       "      <td>57.299578</td>\n",
       "      <td>0.0</td>\n",
       "      <td>0.0</td>\n",
       "      <td>3.375527</td>\n",
       "      <td>0.0</td>\n",
       "      <td>0.0</td>\n",
       "      <td>0.337553</td>\n",
       "      <td>0.084388</td>\n",
       "      <td>1.434599</td>\n",
       "      <td>3.037975</td>\n",
       "      <td>0.084388</td>\n",
       "      <td>1.265823</td>\n",
       "    </tr>\n",
       "    <tr>\n",
       "      <th>2022</th>\n",
       "      <td>0.0</td>\n",
       "      <td>0.0</td>\n",
       "      <td>0.000000</td>\n",
       "      <td>61.461538</td>\n",
       "      <td>0.0</td>\n",
       "      <td>0.0</td>\n",
       "      <td>3.769231</td>\n",
       "      <td>0.0</td>\n",
       "      <td>0.0</td>\n",
       "      <td>0.000000</td>\n",
       "      <td>0.000000</td>\n",
       "      <td>0.153846</td>\n",
       "      <td>2.230769</td>\n",
       "      <td>0.000000</td>\n",
       "      <td>0.307692</td>\n",
       "    </tr>\n",
       "  </tbody>\n",
       "</table>\n",
       "</div>"
      ],
      "text/plain": [
       "      university  year  rank_display      score  link  country      city  \\\n",
       "year                                                                       \n",
       "2017         0.0   0.0      2.036442  56.698821   0.0      0.0  1.607717   \n",
       "2018         0.0   0.0      0.102354  58.751279   0.0      0.0  1.740020   \n",
       "2019         0.0   0.0      1.964637  50.392927   0.0      0.0  2.455796   \n",
       "2020         0.0   0.0      0.093545  53.133770   0.0      0.0  2.993452   \n",
       "2021         0.0   0.0      2.278481  57.299578   0.0      0.0  3.375527   \n",
       "2022         0.0   0.0      0.000000  61.461538   0.0      0.0  3.769231   \n",
       "\n",
       "      region  logo      type  research_output  student_faculty_ratio  \\\n",
       "year                                                                   \n",
       "2017     0.0   0.0  0.000000         0.000000               1.393355   \n",
       "2018     0.0   0.0  0.204708         0.000000               1.330604   \n",
       "2019     0.0   0.0  0.196464         0.000000               1.375246   \n",
       "2020     0.0   0.0  0.374181         0.093545               1.496726   \n",
       "2021     0.0   0.0  0.337553         0.084388               1.434599   \n",
       "2022     0.0   0.0  0.000000         0.000000               0.153846   \n",
       "\n",
       "      international_students      size  faculty_count  \n",
       "year                                                   \n",
       "2017                2.465166  0.000000       1.500536  \n",
       "2018                2.456499  0.000000       1.432958  \n",
       "2019                2.554028  0.000000       1.375246  \n",
       "2020                2.432180  0.093545       1.590271  \n",
       "2021                3.037975  0.084388       1.265823  \n",
       "2022                2.230769  0.000000       0.307692  "
      ]
     },
     "execution_count": 964,
     "metadata": {},
     "output_type": "execute_result"
    }
   ],
   "source": [
    "missing_percentage_per_year"
   ]
  },
  {
   "cell_type": "code",
   "execution_count": 965,
   "metadata": {},
   "outputs": [],
   "source": [
    "#More than 56% of score values are missing, the dataset documentation aslo suggests that score is based on six other factors. \n",
    "#For our initital questions we can work without score. \n",
    "\n",
    "uni_rankings = uni_rankings.drop('score', axis=1)\n"
   ]
  },
  {
   "cell_type": "code",
   "execution_count": 966,
   "metadata": {
    "execution": {
     "iopub.execute_input": "2023-06-04T16:28:57.597076Z",
     "iopub.status.busy": "2023-06-04T16:28:57.596540Z",
     "iopub.status.idle": "2023-06-04T16:28:57.614927Z",
     "shell.execute_reply": "2023-06-04T16:28:57.614036Z"
    },
    "papermill": {
     "duration": 0.034479,
     "end_time": "2023-06-04T16:28:57.617839",
     "exception": false,
     "start_time": "2023-06-04T16:28:57.583360",
     "status": "completed"
    },
    "tags": []
   },
   "outputs": [
    {
     "name": "stdout",
     "output_type": "stream",
     "text": [
      "(6482, 12)\n"
     ]
    }
   ],
   "source": [
    "# Link and logo columns can be dropped, as they do not have any weightage in the analysis\n",
    "\n",
    "uni_rankings = uni_rankings.drop(columns=['link', 'logo'])\n",
    "print(uni_rankings.shape)"
   ]
  },
  {
   "cell_type": "code",
   "execution_count": 967,
   "metadata": {},
   "outputs": [
    {
     "name": "stdout",
     "output_type": "stream",
     "text": [
      "### Dataframe information ### \n",
      "\n",
      "<class 'pandas.core.frame.DataFrame'>\n",
      "RangeIndex: 6482 entries, 0 to 6481\n",
      "Data columns (total 12 columns):\n",
      "university                6482 non-null object\n",
      "year                      6482 non-null int64\n",
      "rank_display              6414 non-null object\n",
      "country                   6482 non-null object\n",
      "city                      6304 non-null object\n",
      "region                    6482 non-null object\n",
      "type                      6470 non-null object\n",
      "research_output           6480 non-null object\n",
      "student_faculty_ratio     6407 non-null float64\n",
      "international_students    6318 non-null object\n",
      "size                      6480 non-null object\n",
      "faculty_count             6404 non-null object\n",
      "dtypes: float64(1), int64(1), object(10)\n",
      "memory usage: 607.8+ KB\n"
     ]
    }
   ],
   "source": [
    "# Check Dataframe information for int and string data types\n",
    "\n",
    "print('### Dataframe information ###','\\n')\n",
    "uni_rankings.info()"
   ]
  },
  {
   "cell_type": "code",
   "execution_count": 968,
   "metadata": {},
   "outputs": [],
   "source": [
    "# We can drop NA from the dataframe as only a small percentage of NA rows are present as indicated by the percentages earlier. \n",
    "\n",
    "uni_rankings = uni_rankings.dropna()"
   ]
  },
  {
   "cell_type": "code",
   "execution_count": 969,
   "metadata": {},
   "outputs": [
    {
     "data": {
      "text/plain": [
       "1261"
      ]
     },
     "execution_count": 969,
     "metadata": {},
     "output_type": "execute_result"
    }
   ],
   "source": [
    "# Get the number of unique universities across all years\n",
    "\n",
    "unique_universities = uni_rankings['university'].nunique()\n",
    "unique_universities"
   ]
  },
  {
   "cell_type": "code",
   "execution_count": 970,
   "metadata": {},
   "outputs": [
    {
     "name": "stdout",
     "output_type": "stream",
     "text": [
      "year\n",
      "2017     883\n",
      "2018     929\n",
      "2019     953\n",
      "2020    1003\n",
      "2021    1094\n",
      "2022    1219\n"
     ]
    }
   ],
   "source": [
    "# Group the DataFrame by year and calculate the count of unique universities per year\n",
    "\n",
    "unique_universities_per_year = uni_rankings.groupby('year')['university'].nunique()\n",
    "\n",
    "print(unique_universities_per_year.to_string())\n"
   ]
  },
  {
   "cell_type": "code",
   "execution_count": 971,
   "metadata": {},
   "outputs": [
    {
     "name": "stdout",
     "output_type": "stream",
     "text": [
      "<class 'pandas.core.frame.DataFrame'>\n",
      "Int64Index: 6081 entries, 0 to 6481\n",
      "Data columns (total 12 columns):\n",
      "university                6081 non-null object\n",
      "year                      6081 non-null int64\n",
      "rank_display              6081 non-null object\n",
      "country                   6081 non-null object\n",
      "city                      6081 non-null object\n",
      "region                    6081 non-null object\n",
      "type                      6081 non-null object\n",
      "research_output           6081 non-null object\n",
      "student_faculty_ratio     6081 non-null float64\n",
      "international_students    6081 non-null object\n",
      "size                      6081 non-null object\n",
      "faculty_count             6081 non-null object\n",
      "dtypes: float64(1), int64(1), object(10)\n",
      "memory usage: 617.6+ KB\n"
     ]
    }
   ],
   "source": [
    "uni_rankings.info()"
   ]
  },
  {
   "cell_type": "raw",
   "metadata": {},
   "source": [
    "Step 3: Data Preparation "
   ]
  },
  {
   "cell_type": "code",
   "execution_count": 972,
   "metadata": {},
   "outputs": [
    {
     "data": {
      "text/plain": [
       "'401-410'"
      ]
     },
     "execution_count": 972,
     "metadata": {},
     "output_type": "execute_result"
    }
   ],
   "source": [
    "# we can see that rank is a string/obj datatype further analyzing \n",
    "\n",
    "uni_rankings['rank_display'][400]"
   ]
  },
  {
   "cell_type": "code",
   "execution_count": 973,
   "metadata": {},
   "outputs": [
    {
     "name": "stdout",
     "output_type": "stream",
     "text": [
      "0    1.0\n",
      "1    2.0\n",
      "2    3.0\n",
      "3    4.0\n",
      "4    5.0\n",
      "Name: avg_rank, dtype: float64\n"
     ]
    }
   ],
   "source": [
    "# Function to split, convert to float, and calculate the average rank\n",
    "\n",
    "def split_and_average_rank(rank):\n",
    "    \n",
    "    # Split the rank values using '-'\n",
    "    rank_parts = rank.split('-')\n",
    "    \n",
    "    # Convert each part to float\n",
    "    rank_values = [float(part) for part in rank_parts]\n",
    "    \n",
    "    # Calculate the average rank\n",
    "    average_rank = sum(rank_values) / len(rank_values)\n",
    "    \n",
    "    return average_rank\n",
    "\n",
    "# Apply the function to the rank_display column\n",
    "uni_rankings['avg_rank'] = uni_rankings['rank_display'].apply(split_and_average_rank)\n",
    "\n",
    "# Print the DataFrame with the average rank\n",
    "print(uni_rankings['avg_rank'].head())"
   ]
  },
  {
   "cell_type": "code",
   "execution_count": 974,
   "metadata": {},
   "outputs": [],
   "source": [
    "# function to check if value can not be converted to int\n",
    "def isnot_int(val):\n",
    "    try:\n",
    "        int_val = int(val)\n",
    "        return False\n",
    "    except:\n",
    "        return True\n",
    "\n",
    "def isnot_float(val):\n",
    "    try:\n",
    "        int_val = float(val)\n",
    "        return False\n",
    "    except:\n",
    "        return True"
   ]
  },
  {
   "cell_type": "code",
   "execution_count": 975,
   "metadata": {},
   "outputs": [
    {
     "name": "stdout",
     "output_type": "stream",
     "text": [
      "4137 values cannot be converted to int.\n"
     ]
    }
   ],
   "source": [
    "not_converted_values = uni_rankings[uni_rankings['international_students'].map(isnot_int)]\n",
    "print(len(not_converted_values),\"values cannot be converted to int.\")\n",
    "# Check result\n",
    "# not_converted_values"
   ]
  },
  {
   "cell_type": "code",
   "execution_count": 976,
   "metadata": {},
   "outputs": [
    {
     "name": "stdout",
     "output_type": "stream",
     "text": [
      "10,827\n",
      "1.415\n"
     ]
    }
   ],
   "source": [
    "# we can see that many values are string/obj datatype, further analyzing \n",
    "\n",
    "print(uni_rankings['international_students'][29])\n",
    "print(uni_rankings['international_students'][378])"
   ]
  },
  {
   "cell_type": "code",
   "execution_count": 977,
   "metadata": {},
   "outputs": [],
   "source": [
    "# Clean international_students to convert to numeric form \n",
    "uni_rankings['international_students'].replace(',','', regex=True, inplace=True)"
   ]
  },
  {
   "cell_type": "code",
   "execution_count": 978,
   "metadata": {},
   "outputs": [
    {
     "name": "stdout",
     "output_type": "stream",
     "text": [
      "1970 values cannot be converted to int.\n"
     ]
    }
   ],
   "source": [
    "not_converted_values = uni_rankings[uni_rankings['international_students'].map(isnot_int)]\n",
    "print(len(not_converted_values),\"values cannot be converted to int.\")\n",
    "# Check result\n",
    "# not_converted_values"
   ]
  },
  {
   "cell_type": "code",
   "execution_count": 979,
   "metadata": {},
   "outputs": [],
   "source": [
    "uni_rankings['international_students'].replace('\\.','', regex=True, inplace=True)"
   ]
  },
  {
   "cell_type": "code",
   "execution_count": 980,
   "metadata": {},
   "outputs": [],
   "source": [
    "# convert international_students to numeric form \n",
    "uni_rankings[\"international_students\"] = pd.to_numeric(uni_rankings[\"international_students\"])"
   ]
  },
  {
   "cell_type": "code",
   "execution_count": 981,
   "metadata": {},
   "outputs": [
    {
     "name": "stdout",
     "output_type": "stream",
     "text": [
      "<class 'pandas.core.frame.DataFrame'>\n",
      "Int64Index: 6081 entries, 0 to 6481\n",
      "Data columns (total 13 columns):\n",
      "university                6081 non-null object\n",
      "year                      6081 non-null int64\n",
      "rank_display              6081 non-null object\n",
      "country                   6081 non-null object\n",
      "city                      6081 non-null object\n",
      "region                    6081 non-null object\n",
      "type                      6081 non-null object\n",
      "research_output           6081 non-null object\n",
      "student_faculty_ratio     6081 non-null float64\n",
      "international_students    6081 non-null int64\n",
      "size                      6081 non-null object\n",
      "faculty_count             6081 non-null object\n",
      "avg_rank                  6081 non-null float64\n",
      "dtypes: float64(2), int64(2), object(9)\n",
      "memory usage: 825.1+ KB\n"
     ]
    }
   ],
   "source": [
    "# Verify \n",
    "uni_rankings.info()"
   ]
  },
  {
   "cell_type": "code",
   "execution_count": 982,
   "metadata": {},
   "outputs": [
    {
     "name": "stdout",
     "output_type": "stream",
     "text": [
      "4345 values cannot be converted to int.\n"
     ]
    }
   ],
   "source": [
    "# Clean faculty_count to convert to numeric form \n",
    "\n",
    "not_converted_values = uni_rankings[uni_rankings['faculty_count'].map(isnot_int)]\n",
    "print(len(not_converted_values),\"values cannot be converted to int.\")\n",
    "# Check result\n",
    "# not_converted_values"
   ]
  },
  {
   "cell_type": "code",
   "execution_count": 983,
   "metadata": {},
   "outputs": [],
   "source": [
    "uni_rankings['faculty_count'].replace(',','', regex=True, inplace=True)"
   ]
  },
  {
   "cell_type": "code",
   "execution_count": 984,
   "metadata": {},
   "outputs": [],
   "source": [
    "uni_rankings['faculty_count'].replace('\\.','', regex=True, inplace=True)"
   ]
  },
  {
   "cell_type": "code",
   "execution_count": 985,
   "metadata": {},
   "outputs": [],
   "source": [
    "# convert faculty_count to numeric form \n",
    "\n",
    "uni_rankings[\"faculty_count\"] = pd.to_numeric(uni_rankings[\"faculty_count\"])"
   ]
  },
  {
   "cell_type": "code",
   "execution_count": 986,
   "metadata": {},
   "outputs": [
    {
     "name": "stdout",
     "output_type": "stream",
     "text": [
      "<class 'pandas.core.frame.DataFrame'>\n",
      "Int64Index: 6081 entries, 0 to 6481\n",
      "Data columns (total 13 columns):\n",
      "university                6081 non-null object\n",
      "year                      6081 non-null int64\n",
      "rank_display              6081 non-null object\n",
      "country                   6081 non-null object\n",
      "city                      6081 non-null object\n",
      "region                    6081 non-null object\n",
      "type                      6081 non-null object\n",
      "research_output           6081 non-null object\n",
      "student_faculty_ratio     6081 non-null float64\n",
      "international_students    6081 non-null int64\n",
      "size                      6081 non-null object\n",
      "faculty_count             6081 non-null int64\n",
      "avg_rank                  6081 non-null float64\n",
      "dtypes: float64(2), int64(3), object(8)\n",
      "memory usage: 825.1+ KB\n"
     ]
    }
   ],
   "source": [
    "#verify\n",
    "uni_rankings.info()"
   ]
  },
  {
   "cell_type": "code",
   "execution_count": 987,
   "metadata": {},
   "outputs": [],
   "source": [
    "#drop rank as we now have numeric avg rank column \n",
    "uni_rankings = uni_rankings.drop('rank_display', axis=1)\n",
    "cat_df = uni_rankings.select_dtypes(include=['object'])"
   ]
  },
  {
   "cell_type": "code",
   "execution_count": 988,
   "metadata": {},
   "outputs": [
    {
     "name": "stdout",
     "output_type": "stream",
     "text": [
      "Index(['university', 'country', 'city', 'region', 'type', 'research_output',\n",
      "       'size'],\n",
      "      dtype='object')\n"
     ]
    }
   ],
   "source": [
    "#view categorical colums\n",
    "print(cat_df.columns)"
   ]
  },
  {
   "cell_type": "code",
   "execution_count": 989,
   "metadata": {},
   "outputs": [
    {
     "data": {
      "text/plain": [
       "(6081, 12)"
      ]
     },
     "execution_count": 989,
     "metadata": {},
     "output_type": "execute_result"
    }
   ],
   "source": [
    "uni_rankings.shape"
   ]
  },
  {
   "cell_type": "code",
   "execution_count": 990,
   "metadata": {},
   "outputs": [
    {
     "data": {
      "text/plain": [
       "Very High    4310\n",
       "High         1330\n",
       "Medium        370\n",
       "Low            43\n",
       "Very high      28\n",
       "Name: research_output, dtype: int64"
      ]
     },
     "execution_count": 990,
     "metadata": {},
     "output_type": "execute_result"
    }
   ],
   "source": [
    "#check research_output data\n",
    "\n",
    "uni_rankings['research_output'].value_counts()"
   ]
  },
  {
   "cell_type": "code",
   "execution_count": 991,
   "metadata": {},
   "outputs": [],
   "source": [
    "#convert to lower case to clean and process\n",
    "uni_rankings['research_output'] = uni_rankings['research_output'].apply(lambda x:x.lower())"
   ]
  },
  {
   "cell_type": "code",
   "execution_count": 992,
   "metadata": {},
   "outputs": [],
   "source": [
    "# Map the 'research_output' column to numerical values\n",
    "research_output_mapping = {'low': 1, 'medium': 2, 'high': 3, 'very high': 4}\n",
    "uni_rankings['research_output'] = uni_rankings['research_output'].map(research_output_mapping)"
   ]
  },
  {
   "cell_type": "code",
   "execution_count": 993,
   "metadata": {},
   "outputs": [
    {
     "data": {
      "text/plain": [
       "L     2905\n",
       "XL    1564\n",
       "M     1316\n",
       "S      296\n",
       "Name: size, dtype: int64"
      ]
     },
     "execution_count": 993,
     "metadata": {},
     "output_type": "execute_result"
    }
   ],
   "source": [
    "# Similarly for size column\n",
    "uni_rankings['size'].value_counts()"
   ]
  },
  {
   "cell_type": "code",
   "execution_count": 994,
   "metadata": {},
   "outputs": [],
   "source": [
    "# Map the 'size' column to numerical values\n",
    "size_mapping = {'S': 1, 'M': 2, 'L': 3, 'XL': 4}\n",
    "uni_rankings['size'] = uni_rankings['size'].map(size_mapping)"
   ]
  },
  {
   "cell_type": "code",
   "execution_count": 995,
   "metadata": {},
   "outputs": [
    {
     "data": {
      "text/plain": [
       "Public     4969\n",
       "Private    1112\n",
       "Name: type, dtype: int64"
      ]
     },
     "execution_count": 995,
     "metadata": {},
     "output_type": "execute_result"
    }
   ],
   "source": [
    "# Now for type column \n",
    "uni_rankings['type'].value_counts()"
   ]
  },
  {
   "cell_type": "code",
   "execution_count": 996,
   "metadata": {},
   "outputs": [],
   "source": [
    "# we can use get dummies in this case \n",
    "\n",
    "df_type_cols = pd.get_dummies(uni_rankings['type'],prefix='Type', prefix_sep='_', dummy_na=False)"
   ]
  },
  {
   "cell_type": "code",
   "execution_count": 997,
   "metadata": {},
   "outputs": [],
   "source": [
    "#concatenate the dfs\n",
    "\n",
    "df = pd.concat([uni_rankings, df_type_cols], axis=1)"
   ]
  },
  {
   "cell_type": "code",
   "execution_count": 998,
   "metadata": {},
   "outputs": [
    {
     "data": {
      "text/plain": [
       "Index(['university', 'year', 'country', 'city', 'region', 'type',\n",
       "       'research_output', 'student_faculty_ratio', 'international_students',\n",
       "       'size', 'faculty_count', 'avg_rank', 'Type_Private', 'Type_Public'],\n",
       "      dtype='object')"
      ]
     },
     "execution_count": 998,
     "metadata": {},
     "output_type": "execute_result"
    }
   ],
   "source": [
    "df.columns"
   ]
  },
  {
   "cell_type": "code",
   "execution_count": 999,
   "metadata": {},
   "outputs": [
    {
     "data": {
      "text/html": [
       "<div>\n",
       "<style scoped>\n",
       "    .dataframe tbody tr th:only-of-type {\n",
       "        vertical-align: middle;\n",
       "    }\n",
       "\n",
       "    .dataframe tbody tr th {\n",
       "        vertical-align: top;\n",
       "    }\n",
       "\n",
       "    .dataframe thead th {\n",
       "        text-align: right;\n",
       "    }\n",
       "</style>\n",
       "<table border=\"1\" class=\"dataframe\">\n",
       "  <thead>\n",
       "    <tr style=\"text-align: right;\">\n",
       "      <th></th>\n",
       "      <th>university</th>\n",
       "      <th>year</th>\n",
       "      <th>country</th>\n",
       "      <th>city</th>\n",
       "      <th>region</th>\n",
       "      <th>type</th>\n",
       "      <th>research_output</th>\n",
       "      <th>student_faculty_ratio</th>\n",
       "      <th>international_students</th>\n",
       "      <th>size</th>\n",
       "      <th>faculty_count</th>\n",
       "      <th>avg_rank</th>\n",
       "      <th>Type_Private</th>\n",
       "      <th>Type_Public</th>\n",
       "    </tr>\n",
       "  </thead>\n",
       "  <tbody>\n",
       "    <tr>\n",
       "      <th>0</th>\n",
       "      <td>Massachusetts Institute of Technology (MIT)</td>\n",
       "      <td>2017</td>\n",
       "      <td>United States</td>\n",
       "      <td>Cambridge</td>\n",
       "      <td>North America</td>\n",
       "      <td>Private</td>\n",
       "      <td>4</td>\n",
       "      <td>4.0</td>\n",
       "      <td>3730</td>\n",
       "      <td>2</td>\n",
       "      <td>3065</td>\n",
       "      <td>1.0</td>\n",
       "      <td>1</td>\n",
       "      <td>0</td>\n",
       "    </tr>\n",
       "    <tr>\n",
       "      <th>1</th>\n",
       "      <td>Stanford University</td>\n",
       "      <td>2017</td>\n",
       "      <td>United States</td>\n",
       "      <td>Stanford</td>\n",
       "      <td>North America</td>\n",
       "      <td>Private</td>\n",
       "      <td>4</td>\n",
       "      <td>3.0</td>\n",
       "      <td>3879</td>\n",
       "      <td>3</td>\n",
       "      <td>4725</td>\n",
       "      <td>2.0</td>\n",
       "      <td>1</td>\n",
       "      <td>0</td>\n",
       "    </tr>\n",
       "    <tr>\n",
       "      <th>2</th>\n",
       "      <td>Harvard University</td>\n",
       "      <td>2017</td>\n",
       "      <td>United States</td>\n",
       "      <td>Cambridge</td>\n",
       "      <td>North America</td>\n",
       "      <td>Private</td>\n",
       "      <td>4</td>\n",
       "      <td>5.0</td>\n",
       "      <td>5877</td>\n",
       "      <td>3</td>\n",
       "      <td>4646</td>\n",
       "      <td>3.0</td>\n",
       "      <td>1</td>\n",
       "      <td>0</td>\n",
       "    </tr>\n",
       "    <tr>\n",
       "      <th>3</th>\n",
       "      <td>University of Cambridge</td>\n",
       "      <td>2017</td>\n",
       "      <td>United Kingdom</td>\n",
       "      <td>Cambridge</td>\n",
       "      <td>Europe</td>\n",
       "      <td>Public</td>\n",
       "      <td>4</td>\n",
       "      <td>4.0</td>\n",
       "      <td>7925</td>\n",
       "      <td>3</td>\n",
       "      <td>5800</td>\n",
       "      <td>4.0</td>\n",
       "      <td>0</td>\n",
       "      <td>1</td>\n",
       "    </tr>\n",
       "    <tr>\n",
       "      <th>4</th>\n",
       "      <td>California Institute of Technology (Caltech)</td>\n",
       "      <td>2017</td>\n",
       "      <td>United States</td>\n",
       "      <td>Pasadena</td>\n",
       "      <td>North America</td>\n",
       "      <td>Private</td>\n",
       "      <td>4</td>\n",
       "      <td>2.0</td>\n",
       "      <td>692</td>\n",
       "      <td>1</td>\n",
       "      <td>968</td>\n",
       "      <td>5.0</td>\n",
       "      <td>1</td>\n",
       "      <td>0</td>\n",
       "    </tr>\n",
       "  </tbody>\n",
       "</table>\n",
       "</div>"
      ],
      "text/plain": [
       "                                     university  year         country  \\\n",
       "0  Massachusetts Institute of Technology (MIT)   2017   United States   \n",
       "1                           Stanford University  2017   United States   \n",
       "2                            Harvard University  2017   United States   \n",
       "3                       University of Cambridge  2017  United Kingdom   \n",
       "4  California Institute of Technology (Caltech)  2017   United States   \n",
       "\n",
       "        city         region     type  research_output  student_faculty_ratio  \\\n",
       "0  Cambridge  North America  Private                4                    4.0   \n",
       "1   Stanford  North America  Private                4                    3.0   \n",
       "2  Cambridge  North America  Private                4                    5.0   \n",
       "3  Cambridge         Europe   Public                4                    4.0   \n",
       "4   Pasadena  North America  Private                4                    2.0   \n",
       "\n",
       "   international_students  size  faculty_count  avg_rank  Type_Private  \\\n",
       "0                    3730     2           3065       1.0             1   \n",
       "1                    3879     3           4725       2.0             1   \n",
       "2                    5877     3           4646       3.0             1   \n",
       "3                    7925     3           5800       4.0             0   \n",
       "4                     692     1            968       5.0             1   \n",
       "\n",
       "   Type_Public  \n",
       "0            0  \n",
       "1            0  \n",
       "2            0  \n",
       "3            1  \n",
       "4            0  "
      ]
     },
     "execution_count": 999,
     "metadata": {},
     "output_type": "execute_result"
    }
   ],
   "source": [
    "df.head()"
   ]
  },
  {
   "cell_type": "code",
   "execution_count": 1000,
   "metadata": {},
   "outputs": [],
   "source": [
    "df = df.drop('type', axis=1)"
   ]
  },
  {
   "cell_type": "code",
   "execution_count": 1001,
   "metadata": {},
   "outputs": [
    {
     "name": "stdout",
     "output_type": "stream",
     "text": [
      "<class 'pandas.core.frame.DataFrame'>\n",
      "Int64Index: 6081 entries, 0 to 6481\n",
      "Data columns (total 13 columns):\n",
      "university                6081 non-null object\n",
      "year                      6081 non-null int64\n",
      "country                   6081 non-null object\n",
      "city                      6081 non-null object\n",
      "region                    6081 non-null object\n",
      "research_output           6081 non-null int64\n",
      "student_faculty_ratio     6081 non-null float64\n",
      "international_students    6081 non-null int64\n",
      "size                      6081 non-null int64\n",
      "faculty_count             6081 non-null int64\n",
      "avg_rank                  6081 non-null float64\n",
      "Type_Private              6081 non-null uint8\n",
      "Type_Public               6081 non-null uint8\n",
      "dtypes: float64(2), int64(5), object(4), uint8(2)\n",
      "memory usage: 742.0+ KB\n"
     ]
    }
   ],
   "source": [
    "df.info()"
   ]
  },
  {
   "cell_type": "markdown",
   "metadata": {},
   "source": [
    "Step 3 - Data prep complete. Let us move on to answering the questions through modelling of data. "
   ]
  },
  {
   "cell_type": "markdown",
   "metadata": {},
   "source": [
    "Step 4 and 5 : Data modeling and result evaluation "
   ]
  },
  {
   "cell_type": "markdown",
   "metadata": {},
   "source": [
    "# Question 1: Which country is preferred by international students?"
   ]
  },
  {
   "cell_type": "code",
   "execution_count": 1002,
   "metadata": {},
   "outputs": [
    {
     "data": {
      "text/plain": [
       "(6081, 13)"
      ]
     },
     "execution_count": 1002,
     "metadata": {},
     "output_type": "execute_result"
    }
   ],
   "source": [
    "df.shape"
   ]
  },
  {
   "cell_type": "code",
   "execution_count": 1003,
   "metadata": {},
   "outputs": [],
   "source": [
    "# Group the DataFrame by 'Country' and sum the number of international students\n",
    "country_preferences = df.groupby('country')['international_students'].sum()\n"
   ]
  },
  {
   "cell_type": "code",
   "execution_count": 1004,
   "metadata": {},
   "outputs": [
    {
     "name": "stdout",
     "output_type": "stream",
     "text": [
      "The country preferred by international students is United States with a total of 2922814 international students.\n"
     ]
    }
   ],
   "source": [
    "# Find the country with the highest total of international students\n",
    "preferred_country = country_preferences.idxmax()\n",
    "total_students = country_preferences.max()\n",
    "\n",
    "# Print the result\n",
    "print(f\"The country preferred by international students is {preferred_country} with a total of {total_students} international students.\")"
   ]
  },
  {
   "cell_type": "code",
   "execution_count": 1005,
   "metadata": {},
   "outputs": [],
   "source": [
    "# Group the DataFrame by year and country and sum the number of international students\n",
    "year_country_preferences = df.groupby(['year', 'country'])['international_students'].sum()"
   ]
  },
  {
   "cell_type": "code",
   "execution_count": 1006,
   "metadata": {},
   "outputs": [
    {
     "data": {
      "text/plain": [
       "year\n",
       "2017    (2017, United States)\n",
       "2018    (2018, United States)\n",
       "2019    (2019, United States)\n",
       "2020    (2020, United States)\n",
       "2021    (2021, United States)\n",
       "2022    (2022, United States)\n",
       "Name: international_students, dtype: object"
      ]
     },
     "execution_count": 1006,
     "metadata": {},
     "output_type": "execute_result"
    }
   ],
   "source": [
    "\n",
    "#The preferred country for each year\n",
    "preferred_countries_yearwise = year_country_preferences.groupby('year').idxmax()\n",
    "preferred_countries_yearwise\n"
   ]
  },
  {
   "cell_type": "code",
   "execution_count": 1007,
   "metadata": {},
   "outputs": [
    {
     "name": "stdout",
     "output_type": "stream",
     "text": [
      "Top 5 Preferred Countries in 2017:\n",
      "            country  international_students\n",
      "486   United States                  476384\n",
      "480  United Kingdom                  426752\n",
      "6         Australia                  285599\n",
      "70           Canada                  185999\n",
      "156         Germany                  169597\n",
      "Top 5 Preferred Countries in 2018:\n",
      "            country  international_students\n",
      "487   United States                  483384\n",
      "481  United Kingdom                  450596\n",
      "7         Australia                  291722\n",
      "71           Canada                  185999\n",
      "157         Germany                  173535\n",
      "Top 5 Preferred Countries in 2019:\n",
      "            country  international_students\n",
      "488   United States                  483259\n",
      "482  United Kingdom                  446931\n",
      "8         Australia                  291722\n",
      "72           Canada                  185999\n",
      "158         Germany                  173535\n",
      "Top 5 Preferred Countries in 2020:\n",
      "            country  international_students\n",
      "489   United States                  485680\n",
      "483  United Kingdom                  482502\n",
      "9         Australia                  291722\n",
      "73           Canada                  185999\n",
      "159         Germany                  175836\n",
      "Top 5 Preferred Countries in 2021:\n",
      "            country  international_students\n",
      "490   United States                  485555\n",
      "484  United Kingdom                  479794\n",
      "10        Australia                  288633\n",
      "74           Canada                  185999\n",
      "160         Germany                  175836\n",
      "Top 5 Preferred Countries in 2022:\n",
      "            country  international_students\n",
      "491   United States                  508552\n",
      "485  United Kingdom                  489372\n",
      "11        Australia                  291909\n",
      "75           Canada                  189470\n",
      "161         Germany                  175836\n"
     ]
    },
    {
     "data": {
      "image/png": "[encoded data removed]",
      "text/plain": [
       "<Figure size 864x576 with 1 Axes>"
      ]
     },
     "metadata": {},
     "output_type": "display_data"
    }
   ],
   "source": [
    "int_students_df = df.groupby(['country', 'year'])['international_students'].sum().reset_index()\n",
    "\n",
    "# Get unique years in the DataFrame\n",
    "unique_years = int_students_df['year'].unique()\n",
    "# Initialize a DataFrame to store the top 5 countries for each year\n",
    "top_5_per_year = pd.DataFrame()\n",
    "\n",
    "# Iterate through each unique year\n",
    "for year in unique_years:\n",
    "    year_data = int_students_df[int_students_df['year'] == year]\n",
    "    \n",
    "    # Find the top 5 preferred countries for the current year\n",
    "    top_5_countries = year_data.nlargest(5, 'international_students')\n",
    "    print(f\"Top 5 Preferred Countries in {year}:\")\n",
    "    print(top_5_countries[['country', 'international_students']])\n",
    "    \n",
    "    # Append the top 5 countries for the current year to the DataFrame\n",
    "    top_5_per_year = top_5_per_year.append(top_5_countries, ignore_index=True)\n",
    "\n",
    "# Create a country-wise plot for the top countries across all years\n",
    "plt.figure(figsize=(12, 8))\n",
    "for country in top_5_per_year['country'].unique():\n",
    "    country_data = top_5_per_year[top_5_per_year['country'] == country]\n",
    "    \n",
    "    # Plot the trend of year vs. no of international students for the current country\n",
    "    plt.plot(country_data['year'], country_data['international_students'], marker='o', label=country)\n",
    "\n",
    "plt.title('Trend of International Students by Country (Top 5)')\n",
    "plt.xlabel('Year')\n",
    "plt.ylabel('Number of International Students')\n",
    "plt.legend(loc='best')\n",
    "plt.grid(True)\n",
    "plt.show()"
   ]
  },
  {
   "cell_type": "code",
   "execution_count": 1008,
   "metadata": {},
   "outputs": [],
   "source": [
    "#dropping categorical column type before calculating correlation \n",
    "df_corr = df.drop(['Type_Public', 'Type_Private', 'year'], axis = 1)"
   ]
  },
  {
   "cell_type": "code",
   "execution_count": 1009,
   "metadata": {},
   "outputs": [
    {
     "data": {
      "text/plain": [
       "Index(['university', 'country', 'city', 'region', 'research_output',\n",
       "       'student_faculty_ratio', 'international_students', 'size',\n",
       "       'faculty_count', 'avg_rank'],\n",
       "      dtype='object')"
      ]
     },
     "execution_count": 1009,
     "metadata": {},
     "output_type": "execute_result"
    }
   ],
   "source": [
    "df_corr.columns"
   ]
  },
  {
   "cell_type": "code",
   "execution_count": 1010,
   "metadata": {},
   "outputs": [
    {
     "data": {
      "image/png": "[encoded data removed]",
      "text/plain": [
       "<Figure size 720x576 with 2 Axes>"
      ]
     },
     "metadata": {},
     "output_type": "display_data"
    }
   ],
   "source": [
    "# Calculate the correlation matrix\n",
    "correlation_matrix = df_corr.corr()\n",
    "\n",
    "# Create a heatmap to visualize the correlations\n",
    "plt.figure(figsize=(10, 8))\n",
    "sns.heatmap(correlation_matrix, annot=True, cmap='coolwarm', fmt='.2f')\n",
    "plt.title('Correlation Heatmap')\n",
    "plt.show()"
   ]
  },
  {
   "cell_type": "markdown",
   "metadata": {},
   "source": [
    "# Question 2. What makes a best ranked university?"
   ]
  },
  {
   "cell_type": "code",
   "execution_count": null,
   "metadata": {},
   "outputs": [],
   "source": [
    "#checking this across all years\n",
    "\n",
    "\n",
    "sns.set(style=\"whitegrid\")\n",
    "\n",
    "# Create subplots for different types of plots\n",
    "fig, axes = plt.subplots(2, 2, figsize=(16, 12))\n",
    "\n",
    "# barplot for 'Number of international students' vs. 'Rank'\n",
    "sns.scatterplot(data=df, y='international_students', x='avg_rank', ax=axes[0, 0])\n",
    "axes[0, 0].set_ylabel('Number of International Students')\n",
    "axes[0, 0].set_xlabel('University Rank')\n",
    "axes[0, 0].set_title('scatterplot: Intl Students vs. Rank')\n",
    "\n",
    "# lineplot for 'Research output' vs. 'Rank'\n",
    "sns.lineplot(data=df, y='research_output', x='avg_rank', ax=axes[0, 1])\n",
    "axes[0, 1].set_ylabel('Research Output')\n",
    "axes[0, 1].set_xlabel('University Rank')\n",
    "axes[0, 1].set_title('lineplot: Research Output vs. Rank')\n",
    "\n",
    "# scatterplot for 'Size' vs. 'Rank'\n",
    "sns.scatterplot(data=df, y='student_faculty_ratio', x='avg_rank', ax=axes[1, 0])\n",
    "axes[1, 0].set_ylabel('Student:Faculty Ratio')\n",
    "axes[1, 0].set_xlabel('University Rank')\n",
    "axes[1, 0].set_title('scatterplot: Size vs. Rank')\n",
    "\n",
    "# Box plot for 'Size' vs. 'Rank'\n",
    "sns.scatterplot(data=df, x='faculty_count', y='avg_rank', ax=axes[1, 1])\n",
    "axes[1, 1].set_ylabel('Faculty Count')\n",
    "axes[1, 1].set_xlabel('University Rank')\n",
    "axes[1, 1].set_title('scatterplot: Size vs. Rank')\n",
    "\n",
    "plt.tight_layout()\n",
    "plt.show()"
   ]
  },
  {
   "cell_type": "code",
   "execution_count": null,
   "metadata": {},
   "outputs": [],
   "source": [
    "# Categorize universities into top-ranked and lower-ranked\n",
    "top_ranked = df[df['avg_rank'] <= 100]\n",
    "lower_ranked = df[df['avg_rank'] > 100]\n",
    "\n",
    "# Calculate the average values of different factors\n",
    "top_avg_values = top_ranked[['faculty_count', 'student_faculty_ratio', 'international_students']].mean()\n",
    "# top_avg_values = top_ranked[['international_students']].mean()\n",
    "\n",
    "lower_avg_values = lower_ranked[['faculty_count', 'student_faculty_ratio', 'international_students']].mean()\n",
    "# lower_avg_values = lower_ranked[['international_students']].mean()\n",
    "\n"
   ]
  },
  {
   "cell_type": "code",
   "execution_count": null,
   "metadata": {},
   "outputs": [],
   "source": [
    "print('Average Values for top ranked universities')\n",
    "print('\\n')\n",
    "print(top_avg_values)"
   ]
  },
  {
   "cell_type": "code",
   "execution_count": null,
   "metadata": {},
   "outputs": [],
   "source": [
    "top_ranked['research_output'].value_counts()"
   ]
  },
  {
   "cell_type": "code",
   "execution_count": null,
   "metadata": {},
   "outputs": [],
   "source": [
    "print('Average Values for low ranked universities')\n",
    "print('\\n')\n",
    "print(lower_avg_values)"
   ]
  },
  {
   "cell_type": "code",
   "execution_count": null,
   "metadata": {},
   "outputs": [],
   "source": [
    "lower_ranked['research_output'].value_counts()"
   ]
  },
  {
   "cell_type": "code",
   "execution_count": null,
   "metadata": {},
   "outputs": [],
   "source": [
    "#let's consider the top 25% as top-ranked and bottom 25% as lower-ranked\n",
    "rank_cutoff = int(len(df) * 0.25)\n",
    "\n",
    "# Sort the DataFrame by 'Rank' in ascending order\n",
    "df.sort_values(by='avg_rank', inplace=True)\n"
   ]
  },
  {
   "cell_type": "code",
   "execution_count": null,
   "metadata": {},
   "outputs": [],
   "source": [
    "# Split the DataFrame into top-ranked and lower-ranked universities\n",
    "top_ranked = df[:rank_cutoff]\n",
    "lower_ranked = df[-rank_cutoff:]\n",
    "\n",
    "# List of factors to compare\n",
    "factors_to_compare = ['research_output', 'faculty_count', 'international_students', 'student_faculty_ratio']\n",
    "\n",
    "# Create a 2x2 grid of subplots\n",
    "fig, axs = plt.subplots(2, 2, figsize=(12, 10))\n",
    "fig.suptitle('Comparison of Factors for Top-Ranked vs. Lower-Ranked Universities')\n",
    "\n",
    "# Create individual bar plots for each factor and place them in subplots\n",
    "for i, factor in enumerate(factors_to_compare):\n",
    "    row = i // 2\n",
    "    col = i % 2\n",
    "\n",
    "    top_mean = top_ranked[factor].mean()\n",
    "    lower_mean = lower_ranked[factor].mean()\n",
    "\n",
    "    axs[row, col].bar(['Top-Ranked', 'Lower-Ranked'], [top_mean, lower_mean], color=['#87CEEB', '#FFA07A'])\n",
    "    axs[row, col].set_xlabel('University Rank')\n",
    "    axs[row, col].set_ylabel('Mean Value')\n",
    "    axs[row, col].set_title(f'Comparison of {factor}')\n",
    "    \n",
    "# Adjust spacing between subplots\n",
    "plt.tight_layout()\n",
    "plt.subplots_adjust(top=0.9)\n",
    "plt.show()"
   ]
  },
  {
   "cell_type": "markdown",
   "metadata": {},
   "source": [
    "# Question 3. what are the primary contributors of high research output"
   ]
  },
  {
   "cell_type": "code",
   "execution_count": null,
   "metadata": {},
   "outputs": [],
   "source": [
    "# fetching the correlation of reserach output\n",
    "correlations = df[['international_students','faculty_count', 'size','student_faculty_ratio', 'avg_rank','research_output' ] ].corr()['research_output'].sort_values(ascending=False)\n",
    "print(correlations)"
   ]
  },
  {
   "cell_type": "code",
   "execution_count": null,
   "metadata": {},
   "outputs": [],
   "source": [
    "formatted_correlation_df = pd.DataFrame(correlations, columns=['research_output' ], index=['international_students','faculty_count', 'size','student_faculty_ratio', 'avg_rank','research_output' ]).applymap(\"{:.2f}\".format)"
   ]
  },
  {
   "cell_type": "code",
   "execution_count": null,
   "metadata": {},
   "outputs": [],
   "source": [
    "formatted_correlation_df"
   ]
  },
  {
   "cell_type": "markdown",
   "metadata": {},
   "source": [
    "# Question 4. Are public universities better than private universities"
   ]
  },
  {
   "cell_type": "code",
   "execution_count": null,
   "metadata": {},
   "outputs": [],
   "source": [
    "df.columns"
   ]
  },
  {
   "cell_type": "code",
   "execution_count": null,
   "metadata": {},
   "outputs": [],
   "source": [
    " sns.set(style=\"whitegrid\")\n",
    "\n",
    "# Create a box plot to compare research output between public and private universities\n",
    "plt.figure(figsize=(8, 6))\n",
    "sns.barplot(data=df, x='Type_Private', y='research_output', hue='Type_Public')\n",
    "plt.xlabel('University Type (0: Private, 1: Public)')\n",
    "plt.ylabel('Research Output')\n",
    "plt.title('Research Output Comparison: Public vs. Private Universities')\n",
    "plt.legend(title='Type (Public/Private)', labels=['Public', 'Private'])\n",
    "\n",
    "plt.show()"
   ]
  },
  {
   "cell_type": "code",
   "execution_count": null,
   "metadata": {},
   "outputs": [],
   "source": [
    "# Set the rank range for high-ranked universities (e.g., ranks 1 to 50)\n",
    "high_ranked_range = (1, 100)\n",
    "\n",
    "# Count the number of public and private universities in the high-ranked range\n",
    "public_high_ranked_count = len(df[(df['avg_rank'] >= high_ranked_range[0]) & (df['avg_rank'] <= high_ranked_range[1]) & (df['Type_Public'] == 1)])\n",
    "private_high_ranked_count = len(df[(df['avg_rank'] >= high_ranked_range[0]) & (uni_rankings['avg_rank'] <= high_ranked_range[1]) & (df['Type_Private'] == 1)])\n",
    "\n",
    "print(f'Number of Public High-Ranked Universities: {public_high_ranked_count}')\n",
    "print(f'Number of Private High-Ranked Universities: {private_high_ranked_count}')\n",
    "\n",
    "# Determine which type has more high-ranked universities\n",
    "if public_high_ranked_count > private_high_ranked_count:\n",
    "    print('Public universities have more high-ranked universities.')\n",
    "elif private_high_ranked_count > public_high_ranked_count:\n",
    "    print('Private universities have more high-ranked universities.')\n",
    "else:\n",
    "    print('There is an equal number of high-ranked public and private universities.')"
   ]
  },
  {
   "cell_type": "code",
   "execution_count": null,
   "metadata": {},
   "outputs": [],
   "source": [
    "yearly_counts = df.groupby(['year', 'Type_Private']).apply(lambda x: len(x[(x['avg_rank'] >= high_ranked_range[0]) & (x['avg_rank'] <= high_ranked_range[1])])).reset_index(name='Count')\n",
    "\n",
    "# Pivot the data to create separate columns for public and private counts\n",
    "yearly_counts_pivot = yearly_counts.pivot(index='year', columns='Type_Private', values='Count').fillna(0)\n",
    "\n",
    "# Rename the columns for clarity\n",
    "yearly_counts_pivot.columns = ['Private', 'Public']\n",
    "\n",
    "# Print the year-wise counts\n",
    "print('Top 100 Universities and their types')\n",
    "print(yearly_counts_pivot)"
   ]
  },
  {
   "cell_type": "code",
   "execution_count": null,
   "metadata": {},
   "outputs": [],
   "source": [
    "df['Type_Private'].value_counts()"
   ]
  },
  {
   "cell_type": "code",
   "execution_count": null,
   "metadata": {},
   "outputs": [],
   "source": [
    "# Calculate research output statistics for public universities\n",
    "public_research_stats = df[df['Type_Public'] == 1][['research_output', 'international_students', 'faculty_count']].agg(['mean', 'median'])\n",
    "\n",
    "# Calculate research output statistics for private universities\n",
    "private_research_stats = df[df['Type_Private'] == 1][['research_output', 'international_students', 'faculty_count']].agg(['mean', 'median'])\n",
    "\n",
    "# # Create a DataFrame to display the statistics\n",
    "research_output_comparison = pd.concat([public_research_stats, private_research_stats], axis=1)\n",
    "# research_output_comparison.rows = ['Public Mean', 'Public Median', 'Private Mean', 'Private Median']\n",
    "\n",
    "# # Display the research output comparison table\n",
    "print(research_output_comparison)"
   ]
  },
  {
   "cell_type": "markdown",
   "metadata": {},
   "source": [
    "# (ADDITIONAL) 5. How can we predict score, what variables correlate well with score. "
   ]
  },
  {
   "cell_type": "code",
   "execution_count": null,
   "metadata": {},
   "outputs": [],
   "source": [
    "uni_rankings.head()"
   ]
  },
  {
   "cell_type": "markdown",
   "metadata": {},
   "source": [
    "Q5 - Work in Progress ..."
   ]
  },
  {
   "cell_type": "markdown",
   "metadata": {},
   "source": [
    "# Conclusion\n",
    "\n",
    "1. Which Country is Preferred by International Students? - United States\n",
    "2. What Makes a Best Ranked University? - High research output, High faculty count, more international students and lower ratio of student:faculty\n",
    "3. What Are the Primary Contributors of High Research Output? - High faculty count, more international students and lower ratio of student:faculty\n",
    "4. Are Public Universities Better Than Private? - Private Universities have stood out to be better in this dataset, based on their ranking. "
   ]
  },
  {
   "cell_type": "markdown",
   "metadata": {},
   "source": [
    "Please refer to https://medium.com/@haripriya.ramesh1996/a-data-driven-journey-into-the-worlds-top-universities-638ec49bc707 for description and analysis of findings."
   ]
  },
  {
   "cell_type": "code",
   "execution_count": null,
   "metadata": {},
   "outputs": [],
   "source": []
  }
 ],
 "metadata": {
  "kernelspec": {
   "display_name": "Python 3",
   "language": "python",
   "name": "python3"
  },
  "language_info": {
   "codemirror_mode": {
    "name": "ipython",
    "version": 3
   },
   "file_extension": ".py",
   "mimetype": "text/x-python",
   "name": "python",
   "nbconvert_exporter": "python",
   "pygments_lexer": "ipython3",
   "version": "3.7.3"
  },
  "papermill": {
   "default_parameters": {},
   "duration": 26.08138,
   "end_time": "2023-06-04T16:29:05.482838",
   "environment_variables": {},
   "exception": null,
   "input_path": "__notebook__.ipynb",
   "output_path": "__notebook__.ipynb",
   "parameters": {},
   "start_time": "2023-06-04T16:28:39.401458",
   "version": "2.4.0"
  }
 },
 "nbformat": 4,
 "nbformat_minor": 5
}
